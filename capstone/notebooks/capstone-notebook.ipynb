{
 "cells": [
  {
   "cell_type": "markdown",
   "metadata": {},
   "source": [
    "# Flatiron School Data Science Capstone: Automating the Kansas City Freight Industry\n",
    "## A Lesson in Machine Learning from Experimentation to Product\n",
    "---\n",
    "- Presented by Kevin McPherson\n",
    "- Date Submitted: July 23, 2020\n",
    "- Date Presented: July 24, 2020\n",
    "- Cohort Instructor: Jeff Herman \n",
    "---\n",
    "\n",
    "![The freight industry](https://images.tech.co/wp-content/uploads/2018/08/30083911/Future-of-Trucking-Industry-Automated-Technology-VR.jpg)\n",
    "\n",
    "## Table of Contents\n",
    "\n",
    "1. [Overview](#Overview)\n",
    "2. [Abstract](#Abstract)\n",
    "3. [The OSEMN Framework](#TheOSEMNFramework)\n",
    "   <br>3.1 [Step 1: Obtain the Data](#obtain)"
   ]
  },
  {
   "cell_type": "markdown",
   "metadata": {},
   "source": [
    "## Overview\n",
    "<a id=\"Overview\"></a>\n",
    "This project seeks to take a seemingly difficult problem for many of the freight and freight-adjacent companies in the Kansas City area: predict the cost of a car or any other type of vehicle regardless of weather, geographic location of pickup and drop-off, and the characteristics of the payload. Due to the current job market in data science, many employers are searching for data scientists who are more \"generalists\" than pure data scientists, especially at startups. As such, I have chosen to focus on the machine learning operations (**\"MLOps\"**) of this project as a main driver for my learning in the capstone project. However, I want to make it known that I also have not abandoned the **OSEMN Framework** that the project entails; it is simply a consequence of my current job that not much time is spent *hypothesizing* so a lot of that work is done ad-hoc, as shown in this notebook. \n",
    "\n",
    "---"
   ]
  },
  {
   "cell_type": "markdown",
   "metadata": {},
   "source": [
    "## Abstract\n",
    "<a id=\"Abstract\"></a>\n",
    "Due to it's central location in the United States, Kansas City, Missouri is a prime location for not only distribution centers but the freight car industry. It is estimated that because of its location, 85 percent of the US population could be reached within two days of shipping and freight logistics. It is predicted that between 2016 and 2027, the shipping by truck industry will grow by 27 percent; that's growth from an already staggering 796.7 billion total revenue industry (Statista, 2018). As such, the industry demands a smarter solution to price trips before they happen, so that less operational costs can be spent on coordination of resources (logistics) and more money can be put to the salaries of drivers and truck maintenance for optimal running of the supply chain. Thus, in this capstone project, I will introduce a machine learning model that predicts shipping prices on a smaller attainable market: that of the 12 billion per year vehicle shipping services. My goal is to present both supervised (multiple linear regression), unsupervised (clustering), and ensemble (random forest regressor) learning models and deploy one of them to a requestable API used the FastAPI and Cortex technologies, which have been recently developed, and to deploy a useable model for a company called SuperDispatch which will use this API in their ShipperTMS and CarrierTMS platforms to help merchandisers and freight companies, respectfully. **Numberwise, this will take a trans-geographical, multi-person job and shrink it down into a single click.** \n",
    "\n",
    "---"
   ]
  },
  {
   "cell_type": "markdown",
   "metadata": {},
   "source": [
    "## The OSEMN Framework\n",
    "<a id=\"TheOSEMNFramework\"></a>\n",
    "\n",
    "![the OSEMN framework](https://miro.medium.com/max/700/1*eE8DP4biqtaIK3aIy1S2zA.png)\n",
    "\n",
    "For this project, I will be using the OSEMN Framework. OSEMN stands for **Obtain, Scrub, Explore, Model, and iNterpret**. A more detailed description can be found [here](https://towardsdatascience.com/5-steps-of-a-data-science-project-lifecycle-26c50372b492).\n",
    "\n",
    "---"
   ]
  },
  {
   "cell_type": "markdown",
   "metadata": {},
   "source": [
    "# Step 1: *O*btain the Data from Relevant Sources\n",
    "<a id=\"obtain\"></a>"
   ]
  },
  {
   "cell_type": "markdown",
   "metadata": {},
   "source": [
    "## Import necessary libraries"
   ]
  },
  {
   "cell_type": "code",
   "execution_count": 122,
   "metadata": {},
   "outputs": [],
   "source": [
    "import pandas as pd # For data manipulation\n",
    "import numpy as np # For statistics, file compression\n",
    "import missingno as msno # For visualization of data completeness\n",
    "import matplotlib.pyplot as plt\n",
    "import seaborn as sns\n",
    "from geopy import distance\n",
    "from sklearn.preprocessing import StandardScaler\n",
    "from sklearn.cluster import KMeans\n",
    "from sklearn.manifold import TSNE\n",
    "from sklearn.metrics import silhouette_score\n",
    "from yellowbrick.cluster import KElbowVisualizer\n",
    "from sklearn.model_selection import cross_val_score, GridSearchCV\n",
    "from sklearn.ensemble import RandomForestRegressor\n",
    "from sklearn.preprocessing import MinMaxScaler\n",
    "from sklearn.model_selection import train_test_split\n",
    "from sklearn.metrics import mean_absolute_error\n",
    "from sklearn.metrics import mean_squared_error\n",
    "import scipy.stats as stats"
   ]
  },
  {
   "cell_type": "markdown",
   "metadata": {},
   "source": [
    "## Import the data and assign the columns"
   ]
  },
  {
   "cell_type": "code",
   "execution_count": 3,
   "metadata": {},
   "outputs": [],
   "source": [
    "# Find the data and import\n",
    "df = pd.read_csv('/Users/kevinmcpherson/Bellwethr/superdispatch/bellwethr-orders-export-2020-06-24.csv') # Find the data in the right directory"
   ]
  },
  {
   "cell_type": "markdown",
   "metadata": {},
   "source": [
    "When initially imported, the data does not have the column names. These column names were given to Bellwethr (place I work) by  the clients (SuperDispatch). \n",
    "SuperDispatch has an alpha version of their transport predictor, but Bellwethr was recruited to make a new version. As such, we were constrained to a few\n",
    "features that they wanted as inputs. Namely, `pickup_latitude`, `pickup_longitude`, `delivery_latitude`, `delivery_longitude`, `vehicle_type`, `vehicle_year`, and `is_inoperable`. **I am aware that this is not how traditional data science is done, so I will be adding some additional parts after going through the baseline model.** \n",
    "\n",
    "For the API to work with their current system, we were constrained to these features as inputs and having `vehicle_price` as an output. However disappointing this is, it means that there's much room for possible persuasion in the future."
   ]
  },
  {
   "cell_type": "code",
   "execution_count": 4,
   "metadata": {},
   "outputs": [],
   "source": [
    "# Assign the columns, as the initial import does not have them\n",
    "df.columns = ['created_at', 'pickup_address', 'pickup_city',\n",
    "                 'pickup_state', 'pickup_zip', 'pickup_latitude',\n",
    "                 'pickup_longitude', 'pickup_date', 'delivery_address',\n",
    "                 'delivery_city', 'delivery_state', 'delivery_zip',\n",
    "                 'delivery_latitude', 'delivery_longitude',\n",
    "                 'delivery_date', 'payment_method', 'price',\n",
    "                 'inspection_type', 'status', 'vehicle_year', 'vehicle_make', 'vehicle_model',\n",
    "                 'vehicle_type', 'vehicle_price', 'is_inoperable',\n",
    "                 'requires_enclosed_trailer']"
   ]
  },
  {
   "cell_type": "code",
   "execution_count": 5,
   "metadata": {},
   "outputs": [
    {
     "data": {
      "text/html": [
       "<div>\n",
       "<style scoped>\n",
       "    .dataframe tbody tr th:only-of-type {\n",
       "        vertical-align: middle;\n",
       "    }\n",
       "\n",
       "    .dataframe tbody tr th {\n",
       "        vertical-align: top;\n",
       "    }\n",
       "\n",
       "    .dataframe thead th {\n",
       "        text-align: right;\n",
       "    }\n",
       "</style>\n",
       "<table border=\"1\" class=\"dataframe\">\n",
       "  <thead>\n",
       "    <tr style=\"text-align: right;\">\n",
       "      <th></th>\n",
       "      <th>created_at</th>\n",
       "      <th>pickup_address</th>\n",
       "      <th>pickup_city</th>\n",
       "      <th>pickup_state</th>\n",
       "      <th>pickup_zip</th>\n",
       "      <th>pickup_latitude</th>\n",
       "      <th>pickup_longitude</th>\n",
       "      <th>pickup_date</th>\n",
       "      <th>delivery_address</th>\n",
       "      <th>delivery_city</th>\n",
       "      <th>...</th>\n",
       "      <th>price</th>\n",
       "      <th>inspection_type</th>\n",
       "      <th>status</th>\n",
       "      <th>vehicle_year</th>\n",
       "      <th>vehicle_make</th>\n",
       "      <th>vehicle_model</th>\n",
       "      <th>vehicle_type</th>\n",
       "      <th>vehicle_price</th>\n",
       "      <th>is_inoperable</th>\n",
       "      <th>requires_enclosed_trailer</th>\n",
       "    </tr>\n",
       "  </thead>\n",
       "  <tbody>\n",
       "    <tr>\n",
       "      <th>0</th>\n",
       "      <td>2019-06-01 00:00:39.227653+00</td>\n",
       "      <td>Hwy 131</td>\n",
       "      <td>Wayland</td>\n",
       "      <td>MI</td>\n",
       "      <td>35956</td>\n",
       "      <td>42.674468</td>\n",
       "      <td>-85.661096</td>\n",
       "      <td>NaN</td>\n",
       "      <td>12900 US HWY 431</td>\n",
       "      <td>BOAZ</td>\n",
       "      <td>...</td>\n",
       "      <td>1500.0</td>\n",
       "      <td>NaN</td>\n",
       "      <td>delivered</td>\n",
       "      <td>2015.0</td>\n",
       "      <td>GMC</td>\n",
       "      <td>Sierra 1500</td>\n",
       "      <td>4_door_pickup</td>\n",
       "      <td>NaN</td>\n",
       "      <td>f</td>\n",
       "      <td>f</td>\n",
       "    </tr>\n",
       "    <tr>\n",
       "      <th>1</th>\n",
       "      <td>2019-06-01 00:00:39.227653+00</td>\n",
       "      <td>Hwy 131</td>\n",
       "      <td>Wayland</td>\n",
       "      <td>MI</td>\n",
       "      <td>35956</td>\n",
       "      <td>42.674468</td>\n",
       "      <td>-85.661096</td>\n",
       "      <td>NaN</td>\n",
       "      <td>12900 US HWY 431</td>\n",
       "      <td>BOAZ</td>\n",
       "      <td>...</td>\n",
       "      <td>1500.0</td>\n",
       "      <td>NaN</td>\n",
       "      <td>delivered</td>\n",
       "      <td>2017.0</td>\n",
       "      <td>Chrysler</td>\n",
       "      <td>300</td>\n",
       "      <td>sedan</td>\n",
       "      <td>NaN</td>\n",
       "      <td>f</td>\n",
       "      <td>f</td>\n",
       "    </tr>\n",
       "    <tr>\n",
       "      <th>2</th>\n",
       "      <td>2019-06-01 00:00:39.227653+00</td>\n",
       "      <td>Hwy 131</td>\n",
       "      <td>Wayland</td>\n",
       "      <td>MI</td>\n",
       "      <td>35956</td>\n",
       "      <td>42.674468</td>\n",
       "      <td>-85.661096</td>\n",
       "      <td>NaN</td>\n",
       "      <td>12900 US HWY 431</td>\n",
       "      <td>BOAZ</td>\n",
       "      <td>...</td>\n",
       "      <td>1500.0</td>\n",
       "      <td>NaN</td>\n",
       "      <td>delivered</td>\n",
       "      <td>2016.0</td>\n",
       "      <td>RAM</td>\n",
       "      <td>1500</td>\n",
       "      <td>4_door_pickup</td>\n",
       "      <td>NaN</td>\n",
       "      <td>f</td>\n",
       "      <td>f</td>\n",
       "    </tr>\n",
       "    <tr>\n",
       "      <th>3</th>\n",
       "      <td>2019-06-01 00:00:59.872031+00</td>\n",
       "      <td>1190 Lancaster Rd</td>\n",
       "      <td>manheim</td>\n",
       "      <td>PA</td>\n",
       "      <td>17545</td>\n",
       "      <td>40.139694</td>\n",
       "      <td>-76.396820</td>\n",
       "      <td>NaN</td>\n",
       "      <td>25280 Pleasant Valley Rd #100</td>\n",
       "      <td>chantilly</td>\n",
       "      <td>...</td>\n",
       "      <td>450.0</td>\n",
       "      <td>NaN</td>\n",
       "      <td>delivered</td>\n",
       "      <td>2014.0</td>\n",
       "      <td>land</td>\n",
       "      <td>rover range rover</td>\n",
       "      <td>suv</td>\n",
       "      <td>NaN</td>\n",
       "      <td>f</td>\n",
       "      <td>f</td>\n",
       "    </tr>\n",
       "    <tr>\n",
       "      <th>4</th>\n",
       "      <td>2019-06-01 00:00:59.872031+00</td>\n",
       "      <td>1190 Lancaster Rd</td>\n",
       "      <td>manheim</td>\n",
       "      <td>PA</td>\n",
       "      <td>17545</td>\n",
       "      <td>40.139694</td>\n",
       "      <td>-76.396820</td>\n",
       "      <td>NaN</td>\n",
       "      <td>25280 Pleasant Valley Rd #100</td>\n",
       "      <td>chantilly</td>\n",
       "      <td>...</td>\n",
       "      <td>450.0</td>\n",
       "      <td>NaN</td>\n",
       "      <td>delivered</td>\n",
       "      <td>2011.0</td>\n",
       "      <td>maserati</td>\n",
       "      <td>quattroporte</td>\n",
       "      <td>other</td>\n",
       "      <td>NaN</td>\n",
       "      <td>f</td>\n",
       "      <td>f</td>\n",
       "    </tr>\n",
       "  </tbody>\n",
       "</table>\n",
       "<p>5 rows × 26 columns</p>\n",
       "</div>"
      ],
      "text/plain": [
       "                      created_at     pickup_address pickup_city pickup_state  \\\n",
       "0  2019-06-01 00:00:39.227653+00            Hwy 131     Wayland           MI   \n",
       "1  2019-06-01 00:00:39.227653+00            Hwy 131     Wayland           MI   \n",
       "2  2019-06-01 00:00:39.227653+00            Hwy 131     Wayland           MI   \n",
       "3  2019-06-01 00:00:59.872031+00  1190 Lancaster Rd     manheim           PA   \n",
       "4  2019-06-01 00:00:59.872031+00  1190 Lancaster Rd     manheim           PA   \n",
       "\n",
       "  pickup_zip  pickup_latitude  pickup_longitude pickup_date  \\\n",
       "0      35956        42.674468        -85.661096         NaN   \n",
       "1      35956        42.674468        -85.661096         NaN   \n",
       "2      35956        42.674468        -85.661096         NaN   \n",
       "3      17545        40.139694        -76.396820         NaN   \n",
       "4      17545        40.139694        -76.396820         NaN   \n",
       "\n",
       "                delivery_address delivery_city  ...   price inspection_type  \\\n",
       "0               12900 US HWY 431          BOAZ  ...  1500.0             NaN   \n",
       "1               12900 US HWY 431          BOAZ  ...  1500.0             NaN   \n",
       "2               12900 US HWY 431          BOAZ  ...  1500.0             NaN   \n",
       "3  25280 Pleasant Valley Rd #100     chantilly  ...   450.0             NaN   \n",
       "4  25280 Pleasant Valley Rd #100     chantilly  ...   450.0             NaN   \n",
       "\n",
       "      status  vehicle_year vehicle_make      vehicle_model   vehicle_type  \\\n",
       "0  delivered        2015.0          GMC        Sierra 1500  4_door_pickup   \n",
       "1  delivered        2017.0     Chrysler                300          sedan   \n",
       "2  delivered        2016.0          RAM               1500  4_door_pickup   \n",
       "3  delivered        2014.0         land  rover range rover            suv   \n",
       "4  delivered        2011.0     maserati       quattroporte          other   \n",
       "\n",
       "  vehicle_price is_inoperable  requires_enclosed_trailer  \n",
       "0           NaN             f                          f  \n",
       "1           NaN             f                          f  \n",
       "2           NaN             f                          f  \n",
       "3           NaN             f                          f  \n",
       "4           NaN             f                          f  \n",
       "\n",
       "[5 rows x 26 columns]"
      ]
     },
     "execution_count": 5,
     "metadata": {},
     "output_type": "execute_result"
    }
   ],
   "source": [
    "df.head()"
   ]
  },
  {
   "cell_type": "code",
   "execution_count": 6,
   "metadata": {},
   "outputs": [
    {
     "data": {
      "text/plain": [
       "<matplotlib.axes._subplots.AxesSubplot at 0x7fb94e615130>"
      ]
     },
     "execution_count": 6,
     "metadata": {},
     "output_type": "execute_result"
    },
    {
     "data": {
      "image/png": "[encoded data removed]",
      "text/plain": [
       "<Figure size 1800x720 with 2 Axes>"
      ]
     },
     "metadata": {},
     "output_type": "display_data"
    }
   ],
   "source": [
    "# Visualize the data for completeness\n",
    "msno.matrix(df.sample(250))"
   ]
  },
  {
   "cell_type": "markdown",
   "metadata": {},
   "source": [
    "### Conclusions from importing the data:\n",
    "<a id=\"conclusionsdataimport\"></a>\n",
    "\n",
    "- We want to be looking at `vehicle_price` as our target variable\n",
    "- Our features (unfortunately, pre-selected) are `pickup_latitude` (float), `pickup_longitude` (float), `delivery_latitude` (float), `delivery_longitude` (float), `vehicle_type` (str), `vehicle_year` (int), and `is_inoperable` (bool)\n",
    "- SuperDispatch has informed us that the only vehicles they do price prediction on have a value of `delivered` in the `status` column, so this is another constraint we have to adhere to.\n",
    "- SuperDispatch calculates distance at runtime of their current solution, so we will have to augment the data\n",
    "---"
   ]
  },
  {
   "cell_type": "markdown",
   "metadata": {},
   "source": [
    "# Step 2: *S*crub the Data\n",
    "\n",
    "Taking what we know from above, let's make a baseline model; we will go back later and do some more hypothesis testing and visualizations in case the company wants to take a different route later on.\n",
    "\n",
    "First, let's get only the delivered cars (constraint `#3` from the [conclusions of the data import](#conclusiondataimport))."
   ]
  },
  {
   "cell_type": "code",
   "execution_count": 8,
   "metadata": {},
   "outputs": [],
   "source": [
    "df = df[(df['status'] == 'delivered')]"
   ]
  },
  {
   "cell_type": "markdown",
   "metadata": {},
   "source": [
    "Great, now the data looks pretty complete! "
   ]
  },
  {
   "cell_type": "code",
   "execution_count": 9,
   "metadata": {},
   "outputs": [
    {
     "data": {
      "text/html": [
       "<div>\n",
       "<style scoped>\n",
       "    .dataframe tbody tr th:only-of-type {\n",
       "        vertical-align: middle;\n",
       "    }\n",
       "\n",
       "    .dataframe tbody tr th {\n",
       "        vertical-align: top;\n",
       "    }\n",
       "\n",
       "    .dataframe thead th {\n",
       "        text-align: right;\n",
       "    }\n",
       "</style>\n",
       "<table border=\"1\" class=\"dataframe\">\n",
       "  <thead>\n",
       "    <tr style=\"text-align: right;\">\n",
       "      <th></th>\n",
       "      <th>created_at</th>\n",
       "      <th>pickup_address</th>\n",
       "      <th>pickup_city</th>\n",
       "      <th>pickup_state</th>\n",
       "      <th>pickup_zip</th>\n",
       "      <th>pickup_latitude</th>\n",
       "      <th>pickup_longitude</th>\n",
       "      <th>pickup_date</th>\n",
       "      <th>delivery_address</th>\n",
       "      <th>delivery_city</th>\n",
       "      <th>...</th>\n",
       "      <th>price</th>\n",
       "      <th>inspection_type</th>\n",
       "      <th>status</th>\n",
       "      <th>vehicle_year</th>\n",
       "      <th>vehicle_make</th>\n",
       "      <th>vehicle_model</th>\n",
       "      <th>vehicle_type</th>\n",
       "      <th>vehicle_price</th>\n",
       "      <th>is_inoperable</th>\n",
       "      <th>requires_enclosed_trailer</th>\n",
       "    </tr>\n",
       "  </thead>\n",
       "  <tbody>\n",
       "    <tr>\n",
       "      <th>0</th>\n",
       "      <td>2019-06-01 00:00:39.227653+00</td>\n",
       "      <td>Hwy 131</td>\n",
       "      <td>Wayland</td>\n",
       "      <td>MI</td>\n",
       "      <td>35956</td>\n",
       "      <td>42.674468</td>\n",
       "      <td>-85.661096</td>\n",
       "      <td>NaN</td>\n",
       "      <td>12900 US HWY 431</td>\n",
       "      <td>BOAZ</td>\n",
       "      <td>...</td>\n",
       "      <td>1500.0</td>\n",
       "      <td>NaN</td>\n",
       "      <td>delivered</td>\n",
       "      <td>2015.0</td>\n",
       "      <td>GMC</td>\n",
       "      <td>Sierra 1500</td>\n",
       "      <td>4_door_pickup</td>\n",
       "      <td>NaN</td>\n",
       "      <td>f</td>\n",
       "      <td>f</td>\n",
       "    </tr>\n",
       "    <tr>\n",
       "      <th>1</th>\n",
       "      <td>2019-06-01 00:00:39.227653+00</td>\n",
       "      <td>Hwy 131</td>\n",
       "      <td>Wayland</td>\n",
       "      <td>MI</td>\n",
       "      <td>35956</td>\n",
       "      <td>42.674468</td>\n",
       "      <td>-85.661096</td>\n",
       "      <td>NaN</td>\n",
       "      <td>12900 US HWY 431</td>\n",
       "      <td>BOAZ</td>\n",
       "      <td>...</td>\n",
       "      <td>1500.0</td>\n",
       "      <td>NaN</td>\n",
       "      <td>delivered</td>\n",
       "      <td>2017.0</td>\n",
       "      <td>Chrysler</td>\n",
       "      <td>300</td>\n",
       "      <td>sedan</td>\n",
       "      <td>NaN</td>\n",
       "      <td>f</td>\n",
       "      <td>f</td>\n",
       "    </tr>\n",
       "    <tr>\n",
       "      <th>2</th>\n",
       "      <td>2019-06-01 00:00:39.227653+00</td>\n",
       "      <td>Hwy 131</td>\n",
       "      <td>Wayland</td>\n",
       "      <td>MI</td>\n",
       "      <td>35956</td>\n",
       "      <td>42.674468</td>\n",
       "      <td>-85.661096</td>\n",
       "      <td>NaN</td>\n",
       "      <td>12900 US HWY 431</td>\n",
       "      <td>BOAZ</td>\n",
       "      <td>...</td>\n",
       "      <td>1500.0</td>\n",
       "      <td>NaN</td>\n",
       "      <td>delivered</td>\n",
       "      <td>2016.0</td>\n",
       "      <td>RAM</td>\n",
       "      <td>1500</td>\n",
       "      <td>4_door_pickup</td>\n",
       "      <td>NaN</td>\n",
       "      <td>f</td>\n",
       "      <td>f</td>\n",
       "    </tr>\n",
       "    <tr>\n",
       "      <th>3</th>\n",
       "      <td>2019-06-01 00:00:59.872031+00</td>\n",
       "      <td>1190 Lancaster Rd</td>\n",
       "      <td>manheim</td>\n",
       "      <td>PA</td>\n",
       "      <td>17545</td>\n",
       "      <td>40.139694</td>\n",
       "      <td>-76.396820</td>\n",
       "      <td>NaN</td>\n",
       "      <td>25280 Pleasant Valley Rd #100</td>\n",
       "      <td>chantilly</td>\n",
       "      <td>...</td>\n",
       "      <td>450.0</td>\n",
       "      <td>NaN</td>\n",
       "      <td>delivered</td>\n",
       "      <td>2014.0</td>\n",
       "      <td>land</td>\n",
       "      <td>rover range rover</td>\n",
       "      <td>suv</td>\n",
       "      <td>NaN</td>\n",
       "      <td>f</td>\n",
       "      <td>f</td>\n",
       "    </tr>\n",
       "    <tr>\n",
       "      <th>4</th>\n",
       "      <td>2019-06-01 00:00:59.872031+00</td>\n",
       "      <td>1190 Lancaster Rd</td>\n",
       "      <td>manheim</td>\n",
       "      <td>PA</td>\n",
       "      <td>17545</td>\n",
       "      <td>40.139694</td>\n",
       "      <td>-76.396820</td>\n",
       "      <td>NaN</td>\n",
       "      <td>25280 Pleasant Valley Rd #100</td>\n",
       "      <td>chantilly</td>\n",
       "      <td>...</td>\n",
       "      <td>450.0</td>\n",
       "      <td>NaN</td>\n",
       "      <td>delivered</td>\n",
       "      <td>2011.0</td>\n",
       "      <td>maserati</td>\n",
       "      <td>quattroporte</td>\n",
       "      <td>other</td>\n",
       "      <td>NaN</td>\n",
       "      <td>f</td>\n",
       "      <td>f</td>\n",
       "    </tr>\n",
       "  </tbody>\n",
       "</table>\n",
       "<p>5 rows × 26 columns</p>\n",
       "</div>"
      ],
      "text/plain": [
       "                      created_at     pickup_address pickup_city pickup_state  \\\n",
       "0  2019-06-01 00:00:39.227653+00            Hwy 131     Wayland           MI   \n",
       "1  2019-06-01 00:00:39.227653+00            Hwy 131     Wayland           MI   \n",
       "2  2019-06-01 00:00:39.227653+00            Hwy 131     Wayland           MI   \n",
       "3  2019-06-01 00:00:59.872031+00  1190 Lancaster Rd     manheim           PA   \n",
       "4  2019-06-01 00:00:59.872031+00  1190 Lancaster Rd     manheim           PA   \n",
       "\n",
       "  pickup_zip  pickup_latitude  pickup_longitude pickup_date  \\\n",
       "0      35956        42.674468        -85.661096         NaN   \n",
       "1      35956        42.674468        -85.661096         NaN   \n",
       "2      35956        42.674468        -85.661096         NaN   \n",
       "3      17545        40.139694        -76.396820         NaN   \n",
       "4      17545        40.139694        -76.396820         NaN   \n",
       "\n",
       "                delivery_address delivery_city  ...   price inspection_type  \\\n",
       "0               12900 US HWY 431          BOAZ  ...  1500.0             NaN   \n",
       "1               12900 US HWY 431          BOAZ  ...  1500.0             NaN   \n",
       "2               12900 US HWY 431          BOAZ  ...  1500.0             NaN   \n",
       "3  25280 Pleasant Valley Rd #100     chantilly  ...   450.0             NaN   \n",
       "4  25280 Pleasant Valley Rd #100     chantilly  ...   450.0             NaN   \n",
       "\n",
       "      status  vehicle_year vehicle_make      vehicle_model   vehicle_type  \\\n",
       "0  delivered        2015.0          GMC        Sierra 1500  4_door_pickup   \n",
       "1  delivered        2017.0     Chrysler                300          sedan   \n",
       "2  delivered        2016.0          RAM               1500  4_door_pickup   \n",
       "3  delivered        2014.0         land  rover range rover            suv   \n",
       "4  delivered        2011.0     maserati       quattroporte          other   \n",
       "\n",
       "  vehicle_price is_inoperable  requires_enclosed_trailer  \n",
       "0           NaN             f                          f  \n",
       "1           NaN             f                          f  \n",
       "2           NaN             f                          f  \n",
       "3           NaN             f                          f  \n",
       "4           NaN             f                          f  \n",
       "\n",
       "[5 rows x 26 columns]"
      ]
     },
     "execution_count": 9,
     "metadata": {},
     "output_type": "execute_result"
    }
   ],
   "source": [
    "df.head()"
   ]
  },
  {
   "cell_type": "markdown",
   "metadata": {},
   "source": [
    "## Choosing the features, label encoding, data parsing and other integrity-checking operations"
   ]
  },
  {
   "cell_type": "markdown",
   "metadata": {},
   "source": [
    "First, let's select the features that are going to be in our model, with the `vehicle_price` as the target variable."
   ]
  },
  {
   "cell_type": "code",
   "execution_count": 10,
   "metadata": {},
   "outputs": [],
   "source": [
    "df = df[['pickup_latitude', 'pickup_longitude', 'delivery_latitude', 'delivery_longitude', 'vehicle_year',\n",
    "        'vehicle_type', 'is_inoperable', 'vehicle_price']]"
   ]
  },
  {
   "cell_type": "markdown",
   "metadata": {},
   "source": [
    "Let's check for any NaN off the bat; we want to make sure that these aren't in our most crucial categories like the `latitude` and `longitude` categories, because we need these to augment the data."
   ]
  },
  {
   "cell_type": "code",
   "execution_count": 12,
   "metadata": {},
   "outputs": [
    {
     "data": {
      "text/plain": [
       "pickup_latitude        601479\n",
       "pickup_longitude       601479\n",
       "delivery_latitude      600450\n",
       "delivery_longitude     600450\n",
       "vehicle_year            20022\n",
       "vehicle_type                0\n",
       "is_inoperable               0\n",
       "vehicle_price         2074807\n",
       "dtype: int64"
      ]
     },
     "execution_count": 12,
     "metadata": {},
     "output_type": "execute_result"
    }
   ],
   "source": [
    "df.isna().sum()"
   ]
  },
  {
   "cell_type": "markdown",
   "metadata": {},
   "source": [
    "Well, drats! A whole lot of the latitude and longitudes, as well as the target variables are NaNs or missing. This isn't great because it automatically pares down our data by main points and could underfit the model. Nonetheless, with our constraints, there's not much else we can do besides just wholesale drop these columns."
   ]
  },
  {
   "cell_type": "code",
   "execution_count": 13,
   "metadata": {},
   "outputs": [],
   "source": [
    "df = df.dropna(how = 'any', axis = 0)"
   ]
  },
  {
   "cell_type": "code",
   "execution_count": 14,
   "metadata": {},
   "outputs": [
    {
     "data": {
      "text/html": [
       "<div>\n",
       "<style scoped>\n",
       "    .dataframe tbody tr th:only-of-type {\n",
       "        vertical-align: middle;\n",
       "    }\n",
       "\n",
       "    .dataframe tbody tr th {\n",
       "        vertical-align: top;\n",
       "    }\n",
       "\n",
       "    .dataframe thead th {\n",
       "        text-align: right;\n",
       "    }\n",
       "</style>\n",
       "<table border=\"1\" class=\"dataframe\">\n",
       "  <thead>\n",
       "    <tr style=\"text-align: right;\">\n",
       "      <th></th>\n",
       "      <th>pickup_latitude</th>\n",
       "      <th>pickup_longitude</th>\n",
       "      <th>delivery_latitude</th>\n",
       "      <th>delivery_longitude</th>\n",
       "      <th>vehicle_year</th>\n",
       "      <th>vehicle_type</th>\n",
       "      <th>is_inoperable</th>\n",
       "      <th>vehicle_price</th>\n",
       "    </tr>\n",
       "  </thead>\n",
       "  <tbody>\n",
       "    <tr>\n",
       "      <th>35</th>\n",
       "      <td>26.233345</td>\n",
       "      <td>-80.205093</td>\n",
       "      <td>26.687171</td>\n",
       "      <td>-80.182647</td>\n",
       "      <td>2013.0</td>\n",
       "      <td>suv</td>\n",
       "      <td>f</td>\n",
       "      <td>70.0</td>\n",
       "    </tr>\n",
       "    <tr>\n",
       "      <th>36</th>\n",
       "      <td>26.233345</td>\n",
       "      <td>-80.205093</td>\n",
       "      <td>26.687171</td>\n",
       "      <td>-80.182647</td>\n",
       "      <td>2018.0</td>\n",
       "      <td>suv</td>\n",
       "      <td>f</td>\n",
       "      <td>70.0</td>\n",
       "    </tr>\n",
       "    <tr>\n",
       "      <th>37</th>\n",
       "      <td>26.233345</td>\n",
       "      <td>-80.205093</td>\n",
       "      <td>26.687171</td>\n",
       "      <td>-80.182647</td>\n",
       "      <td>2014.0</td>\n",
       "      <td>sedan</td>\n",
       "      <td>f</td>\n",
       "      <td>70.0</td>\n",
       "    </tr>\n",
       "    <tr>\n",
       "      <th>38</th>\n",
       "      <td>26.233345</td>\n",
       "      <td>-80.205093</td>\n",
       "      <td>26.687171</td>\n",
       "      <td>-80.182647</td>\n",
       "      <td>2008.0</td>\n",
       "      <td>suv</td>\n",
       "      <td>f</td>\n",
       "      <td>70.0</td>\n",
       "    </tr>\n",
       "    <tr>\n",
       "      <th>39</th>\n",
       "      <td>26.233345</td>\n",
       "      <td>-80.205093</td>\n",
       "      <td>26.687171</td>\n",
       "      <td>-80.182647</td>\n",
       "      <td>2016.0</td>\n",
       "      <td>suv</td>\n",
       "      <td>f</td>\n",
       "      <td>70.0</td>\n",
       "    </tr>\n",
       "  </tbody>\n",
       "</table>\n",
       "</div>"
      ],
      "text/plain": [
       "    pickup_latitude  pickup_longitude  delivery_latitude  delivery_longitude  \\\n",
       "35        26.233345        -80.205093          26.687171          -80.182647   \n",
       "36        26.233345        -80.205093          26.687171          -80.182647   \n",
       "37        26.233345        -80.205093          26.687171          -80.182647   \n",
       "38        26.233345        -80.205093          26.687171          -80.182647   \n",
       "39        26.233345        -80.205093          26.687171          -80.182647   \n",
       "\n",
       "    vehicle_year vehicle_type is_inoperable  vehicle_price  \n",
       "35        2013.0          suv             f           70.0  \n",
       "36        2018.0          suv             f           70.0  \n",
       "37        2014.0        sedan             f           70.0  \n",
       "38        2008.0          suv             f           70.0  \n",
       "39        2016.0          suv             f           70.0  "
      ]
     },
     "execution_count": 14,
     "metadata": {},
     "output_type": "execute_result"
    }
   ],
   "source": [
    "df.head()"
   ]
  },
  {
   "cell_type": "code",
   "execution_count": 15,
   "metadata": {},
   "outputs": [],
   "source": [
    "df['vehicle_year'] = df['vehicle_year'].astype('int') # Make sure vehicle year has a type of of integer\n",
    "df.is_inoperable = df.is_inoperable.eq('f').mul(0) # Change is_inoperable from t or f to 1 or 0"
   ]
  },
  {
   "cell_type": "code",
   "execution_count": 16,
   "metadata": {
    "scrolled": true
   },
   "outputs": [
    {
     "data": {
      "text/html": [
       "<div>\n",
       "<style scoped>\n",
       "    .dataframe tbody tr th:only-of-type {\n",
       "        vertical-align: middle;\n",
       "    }\n",
       "\n",
       "    .dataframe tbody tr th {\n",
       "        vertical-align: top;\n",
       "    }\n",
       "\n",
       "    .dataframe thead th {\n",
       "        text-align: right;\n",
       "    }\n",
       "</style>\n",
       "<table border=\"1\" class=\"dataframe\">\n",
       "  <thead>\n",
       "    <tr style=\"text-align: right;\">\n",
       "      <th></th>\n",
       "      <th>pickup_latitude</th>\n",
       "      <th>pickup_longitude</th>\n",
       "      <th>delivery_latitude</th>\n",
       "      <th>delivery_longitude</th>\n",
       "      <th>vehicle_year</th>\n",
       "      <th>vehicle_type</th>\n",
       "      <th>is_inoperable</th>\n",
       "      <th>vehicle_price</th>\n",
       "    </tr>\n",
       "  </thead>\n",
       "  <tbody>\n",
       "    <tr>\n",
       "      <th>35</th>\n",
       "      <td>26.233345</td>\n",
       "      <td>-80.205093</td>\n",
       "      <td>26.687171</td>\n",
       "      <td>-80.182647</td>\n",
       "      <td>2013</td>\n",
       "      <td>suv</td>\n",
       "      <td>0</td>\n",
       "      <td>70.0</td>\n",
       "    </tr>\n",
       "    <tr>\n",
       "      <th>36</th>\n",
       "      <td>26.233345</td>\n",
       "      <td>-80.205093</td>\n",
       "      <td>26.687171</td>\n",
       "      <td>-80.182647</td>\n",
       "      <td>2018</td>\n",
       "      <td>suv</td>\n",
       "      <td>0</td>\n",
       "      <td>70.0</td>\n",
       "    </tr>\n",
       "    <tr>\n",
       "      <th>37</th>\n",
       "      <td>26.233345</td>\n",
       "      <td>-80.205093</td>\n",
       "      <td>26.687171</td>\n",
       "      <td>-80.182647</td>\n",
       "      <td>2014</td>\n",
       "      <td>sedan</td>\n",
       "      <td>0</td>\n",
       "      <td>70.0</td>\n",
       "    </tr>\n",
       "    <tr>\n",
       "      <th>38</th>\n",
       "      <td>26.233345</td>\n",
       "      <td>-80.205093</td>\n",
       "      <td>26.687171</td>\n",
       "      <td>-80.182647</td>\n",
       "      <td>2008</td>\n",
       "      <td>suv</td>\n",
       "      <td>0</td>\n",
       "      <td>70.0</td>\n",
       "    </tr>\n",
       "    <tr>\n",
       "      <th>39</th>\n",
       "      <td>26.233345</td>\n",
       "      <td>-80.205093</td>\n",
       "      <td>26.687171</td>\n",
       "      <td>-80.182647</td>\n",
       "      <td>2016</td>\n",
       "      <td>suv</td>\n",
       "      <td>0</td>\n",
       "      <td>70.0</td>\n",
       "    </tr>\n",
       "  </tbody>\n",
       "</table>\n",
       "</div>"
      ],
      "text/plain": [
       "    pickup_latitude  pickup_longitude  delivery_latitude  delivery_longitude  \\\n",
       "35        26.233345        -80.205093          26.687171          -80.182647   \n",
       "36        26.233345        -80.205093          26.687171          -80.182647   \n",
       "37        26.233345        -80.205093          26.687171          -80.182647   \n",
       "38        26.233345        -80.205093          26.687171          -80.182647   \n",
       "39        26.233345        -80.205093          26.687171          -80.182647   \n",
       "\n",
       "    vehicle_year vehicle_type  is_inoperable  vehicle_price  \n",
       "35          2013          suv              0           70.0  \n",
       "36          2018          suv              0           70.0  \n",
       "37          2014        sedan              0           70.0  \n",
       "38          2008          suv              0           70.0  \n",
       "39          2016          suv              0           70.0  "
      ]
     },
     "execution_count": 16,
     "metadata": {},
     "output_type": "execute_result"
    }
   ],
   "source": [
    "df.head()"
   ]
  },
  {
   "cell_type": "markdown",
   "metadata": {},
   "source": [
    "## Zip coordinates into one column after parsing through valid coordinates"
   ]
  },
  {
   "cell_type": "code",
   "execution_count": 17,
   "metadata": {},
   "outputs": [],
   "source": [
    "df['pickup_latitude'] = df['pickup_latitude'].astype('float') # Make sure pickup_latitude is float type\n",
    "df['delivery_latitude'] = df['delivery_latitude'].astype('float') # Same for delivery_latitude...\n",
    "df['pickup_longitude'] = df['pickup_longitude'].astype('float') # Same for pickup_longitude...\n",
    "df['delivery_longitude'] = df['delivery_longitude'].astype('float') # Same for delivery_longitude..."
   ]
  },
  {
   "cell_type": "code",
   "execution_count": 14,
   "metadata": {},
   "outputs": [],
   "source": [
    "# df['pickup_latitude'] = df[(df['pickup_latitude'] > -90) & (df['pickup_latitude'] < 90)]\n",
    "# df['delivery_latitude'] = df[(df['delivery_latitude'] > -90) & (df['delivery_latitude'] < 90)]\n",
    "# df['pickup_longitude'] = df[(df['pickup_longitude'] > -180) & (df['pickup_longitude'] < 180)]\n",
    "# df['delivery_longitude'] = df[(df['delivery_longitude'] > -180) & (df['delivery_longitude'] < 180)]"
   ]
  },
  {
   "cell_type": "code",
   "execution_count": 18,
   "metadata": {},
   "outputs": [],
   "source": [
    "df['pickup_coordinates'] = list(zip(df.pickup_latitude,df.pickup_longitude)) # Zip into pickup pair of coordinates and put in new series\n",
    "df['delivery_coordinates'] = list(zip(df.delivery_latitude,df.delivery_longitude)) # Zip into delivery pair of coordinates and put into new series"
   ]
  },
  {
   "cell_type": "markdown",
   "metadata": {},
   "source": [
    "## Add a distance feature using Geopy's Great Circle calculation"
   ]
  },
  {
   "cell_type": "code",
   "execution_count": 19,
   "metadata": {},
   "outputs": [],
   "source": [
    "def gets_distance_miles(row):\n",
    "    try:\n",
    "        return distance.great_circle(row['pickup_coordinates'], row['delivery_coordinates']).miles\n",
    "    except: \n",
    "        return ('error')"
   ]
  },
  {
   "cell_type": "code",
   "execution_count": 20,
   "metadata": {},
   "outputs": [
    {
     "name": "stderr",
     "output_type": "stream",
     "text": [
      "/Library/Frameworks/Python.framework/Versions/3.8/lib/python3.8/site-packages/geopy/point.py:405: UserWarning: Latitude normalization has been prohibited in the newer versions of geopy, because the normalized value happened to be on a different pole, which is probably not what was meant. If you pass coordinates as positional args, please make sure that the order is (latitude, longitude) or (y, x) in Cartesian terms.\n",
      "  return cls(*args)\n"
     ]
    }
   ],
   "source": [
    "df['distance']= df.apply(gets_distance_miles, axis=1)"
   ]
  },
  {
   "cell_type": "code",
   "execution_count": 21,
   "metadata": {},
   "outputs": [
    {
     "data": {
      "text/html": [
       "<div>\n",
       "<style scoped>\n",
       "    .dataframe tbody tr th:only-of-type {\n",
       "        vertical-align: middle;\n",
       "    }\n",
       "\n",
       "    .dataframe tbody tr th {\n",
       "        vertical-align: top;\n",
       "    }\n",
       "\n",
       "    .dataframe thead th {\n",
       "        text-align: right;\n",
       "    }\n",
       "</style>\n",
       "<table border=\"1\" class=\"dataframe\">\n",
       "  <thead>\n",
       "    <tr style=\"text-align: right;\">\n",
       "      <th></th>\n",
       "      <th>pickup_latitude</th>\n",
       "      <th>pickup_longitude</th>\n",
       "      <th>delivery_latitude</th>\n",
       "      <th>delivery_longitude</th>\n",
       "      <th>vehicle_year</th>\n",
       "      <th>vehicle_type</th>\n",
       "      <th>is_inoperable</th>\n",
       "      <th>vehicle_price</th>\n",
       "      <th>pickup_coordinates</th>\n",
       "      <th>delivery_coordinates</th>\n",
       "      <th>distance</th>\n",
       "    </tr>\n",
       "  </thead>\n",
       "  <tbody>\n",
       "    <tr>\n",
       "      <th>35</th>\n",
       "      <td>26.233345</td>\n",
       "      <td>-80.205093</td>\n",
       "      <td>26.687171</td>\n",
       "      <td>-80.182647</td>\n",
       "      <td>2013</td>\n",
       "      <td>suv</td>\n",
       "      <td>0</td>\n",
       "      <td>70.0</td>\n",
       "      <td>(26.233344800000005, -80.2050934)</td>\n",
       "      <td>(26.6871706, -80.1826468)</td>\n",
       "      <td>31.3871</td>\n",
       "    </tr>\n",
       "    <tr>\n",
       "      <th>36</th>\n",
       "      <td>26.233345</td>\n",
       "      <td>-80.205093</td>\n",
       "      <td>26.687171</td>\n",
       "      <td>-80.182647</td>\n",
       "      <td>2018</td>\n",
       "      <td>suv</td>\n",
       "      <td>0</td>\n",
       "      <td>70.0</td>\n",
       "      <td>(26.233344800000005, -80.2050934)</td>\n",
       "      <td>(26.6871706, -80.1826468)</td>\n",
       "      <td>31.3871</td>\n",
       "    </tr>\n",
       "    <tr>\n",
       "      <th>37</th>\n",
       "      <td>26.233345</td>\n",
       "      <td>-80.205093</td>\n",
       "      <td>26.687171</td>\n",
       "      <td>-80.182647</td>\n",
       "      <td>2014</td>\n",
       "      <td>sedan</td>\n",
       "      <td>0</td>\n",
       "      <td>70.0</td>\n",
       "      <td>(26.233344800000005, -80.2050934)</td>\n",
       "      <td>(26.6871706, -80.1826468)</td>\n",
       "      <td>31.3871</td>\n",
       "    </tr>\n",
       "    <tr>\n",
       "      <th>38</th>\n",
       "      <td>26.233345</td>\n",
       "      <td>-80.205093</td>\n",
       "      <td>26.687171</td>\n",
       "      <td>-80.182647</td>\n",
       "      <td>2008</td>\n",
       "      <td>suv</td>\n",
       "      <td>0</td>\n",
       "      <td>70.0</td>\n",
       "      <td>(26.233344800000005, -80.2050934)</td>\n",
       "      <td>(26.6871706, -80.1826468)</td>\n",
       "      <td>31.3871</td>\n",
       "    </tr>\n",
       "    <tr>\n",
       "      <th>39</th>\n",
       "      <td>26.233345</td>\n",
       "      <td>-80.205093</td>\n",
       "      <td>26.687171</td>\n",
       "      <td>-80.182647</td>\n",
       "      <td>2016</td>\n",
       "      <td>suv</td>\n",
       "      <td>0</td>\n",
       "      <td>70.0</td>\n",
       "      <td>(26.233344800000005, -80.2050934)</td>\n",
       "      <td>(26.6871706, -80.1826468)</td>\n",
       "      <td>31.3871</td>\n",
       "    </tr>\n",
       "  </tbody>\n",
       "</table>\n",
       "</div>"
      ],
      "text/plain": [
       "    pickup_latitude  pickup_longitude  delivery_latitude  delivery_longitude  \\\n",
       "35        26.233345        -80.205093          26.687171          -80.182647   \n",
       "36        26.233345        -80.205093          26.687171          -80.182647   \n",
       "37        26.233345        -80.205093          26.687171          -80.182647   \n",
       "38        26.233345        -80.205093          26.687171          -80.182647   \n",
       "39        26.233345        -80.205093          26.687171          -80.182647   \n",
       "\n",
       "    vehicle_year vehicle_type  is_inoperable  vehicle_price  \\\n",
       "35          2013          suv              0           70.0   \n",
       "36          2018          suv              0           70.0   \n",
       "37          2014        sedan              0           70.0   \n",
       "38          2008          suv              0           70.0   \n",
       "39          2016          suv              0           70.0   \n",
       "\n",
       "                   pickup_coordinates       delivery_coordinates distance  \n",
       "35  (26.233344800000005, -80.2050934)  (26.6871706, -80.1826468)  31.3871  \n",
       "36  (26.233344800000005, -80.2050934)  (26.6871706, -80.1826468)  31.3871  \n",
       "37  (26.233344800000005, -80.2050934)  (26.6871706, -80.1826468)  31.3871  \n",
       "38  (26.233344800000005, -80.2050934)  (26.6871706, -80.1826468)  31.3871  \n",
       "39  (26.233344800000005, -80.2050934)  (26.6871706, -80.1826468)  31.3871  "
      ]
     },
     "execution_count": 21,
     "metadata": {},
     "output_type": "execute_result"
    }
   ],
   "source": [
    "df.head()"
   ]
  },
  {
   "cell_type": "markdown",
   "metadata": {},
   "source": [
    "Now we have our final dataset to make the API. Let's see now if we can do some data visualization for our purposes of presenting them.\n",
    "\n",
    "---"
   ]
  },
  {
   "cell_type": "markdown",
   "metadata": {},
   "source": [
    "# Step 3: *E*xplore the Data"
   ]
  },
  {
   "cell_type": "markdown",
   "metadata": {},
   "source": [
    "## Price vs. Distance: a major pricing factor in most shipping companies"
   ]
  },
  {
   "cell_type": "markdown",
   "metadata": {},
   "source": [
    "If you look at most any car, truck, motorcycle shipping website, they will probably claim something to the effect of \"the trip distance is a key factor in determining price\". We don't want to overlook this, so let's try and find some cool visualizations to help us see this and maybe help us find patterns"
   ]
  },
  {
   "cell_type": "code",
   "execution_count": 27,
   "metadata": {},
   "outputs": [
    {
     "name": "stderr",
     "output_type": "stream",
     "text": [
      "<ipython-input-27-e404eb8b88d9>:3: SettingWithCopyWarning: \n",
      "A value is trying to be set on a copy of a slice from a DataFrame.\n",
      "Try using .loc[row_indexer,col_indexer] = value instead\n",
      "\n",
      "See the caveats in the documentation: http://pandas.pydata.org/pandas-docs/stable/user_guide/indexing.html#returning-a-view-versus-a-copy\n",
      "  df['distance'] = df['distance'].astype('float')\n"
     ]
    }
   ],
   "source": [
    "df['distance'].value_counts() # First, let's look at the distance of the trips\n",
    "df = df[(df['distance'] != 'error')] # Get rid of any 'error' reads from the function\n",
    "df['distance'] = df['distance'].astype('float') # Now cast as float"
   ]
  },
  {
   "cell_type": "markdown",
   "metadata": {},
   "source": [
    "Let's actually visualize this so that we have an idea of what our trips look like. "
   ]
  },
  {
   "cell_type": "code",
   "execution_count": 21,
   "metadata": {},
   "outputs": [],
   "source": [
    "df = df[(df['distance'] != 'error')]"
   ]
  },
  {
   "cell_type": "code",
   "execution_count": 29,
   "metadata": {},
   "outputs": [
    {
     "name": "stderr",
     "output_type": "stream",
     "text": [
      "/Library/Frameworks/Python.framework/Versions/3.8/lib/python3.8/site-packages/pandas/core/series.py:856: RuntimeWarning: divide by zero encountered in log\n",
      "  result = getattr(ufunc, method)(*inputs, **kwargs)\n",
      "<ipython-input-29-f4b90513b9e2>:1: SettingWithCopyWarning: \n",
      "A value is trying to be set on a copy of a slice from a DataFrame.\n",
      "Try using .loc[row_indexer,col_indexer] = value instead\n",
      "\n",
      "See the caveats in the documentation: http://pandas.pydata.org/pandas-docs/stable/user_guide/indexing.html#returning-a-view-versus-a-copy\n",
      "  df['log distance'] = np.log(df['distance'])\n"
     ]
    }
   ],
   "source": [
    "df['log distance'] = np.log(df['distance']) # Make distance a log since it has a huge range"
   ]
  },
  {
   "cell_type": "code",
   "execution_count": 31,
   "metadata": {},
   "outputs": [
    {
     "name": "stderr",
     "output_type": "stream",
     "text": [
      "/Library/Frameworks/Python.framework/Versions/3.8/lib/python3.8/site-packages/pandas/core/series.py:856: RuntimeWarning: invalid value encountered in log\n",
      "  result = getattr(ufunc, method)(*inputs, **kwargs)\n",
      "<ipython-input-31-12199fdabb1b>:1: SettingWithCopyWarning: \n",
      "A value is trying to be set on a copy of a slice from a DataFrame.\n",
      "Try using .loc[row_indexer,col_indexer] = value instead\n",
      "\n",
      "See the caveats in the documentation: http://pandas.pydata.org/pandas-docs/stable/user_guide/indexing.html#returning-a-view-versus-a-copy\n",
      "  df['log price'] = np.log(df['vehicle_price'])\n"
     ]
    }
   ],
   "source": [
    "df['log price'] = np.log(df['vehicle_price']) # Do the same for price"
   ]
  },
  {
   "cell_type": "code",
   "execution_count": 38,
   "metadata": {},
   "outputs": [],
   "source": [
    "df = df.replace([np.inf, -np.inf], np.nan)\n",
    "df = df.replace([np.inf, -np.inf], np.nan).dropna(subset=[\"log distance\", \"log price\"], how=\"all\")"
   ]
  },
  {
   "cell_type": "code",
   "execution_count": 109,
   "metadata": {},
   "outputs": [
    {
     "data": {
      "image/png": "[encoded data removed]",
      "text/plain": [
       "<Figure size 432x432 with 3 Axes>"
      ]
     },
     "metadata": {},
     "output_type": "display_data"
    }
   ],
   "source": [
    "joint_plot = sns.jointplot(x=\"log distance\", y=\"log price\", kind = 'hex', space = 0, data=df)"
   ]
  },
  {
   "cell_type": "code",
   "execution_count": 118,
   "metadata": {},
   "outputs": [
    {
     "name": "stdout",
     "output_type": "stream",
     "text": [
      "The high density of price range is from 4.4816890703380645 to 148.4131591025766\n",
      "The high density distance range is from 13.463738035001692 to 403.4287934927351\n"
     ]
    }
   ],
   "source": [
    "print('The high density of price range is from', np.exp(1.5), 'to', np.exp(5.0))\n",
    "print('The high density distance range is from', np.exp(2.6), 'to', np.exp(6))"
   ]
  },
  {
   "cell_type": "code",
   "execution_count": 110,
   "metadata": {},
   "outputs": [],
   "source": [
    "joint_plot.savefig(\"lprice_v_ldist.png\") # Save the image"
   ]
  },
  {
   "cell_type": "markdown",
   "metadata": {},
   "source": [
    "## Type and distance shipped: Is there a difference? "
   ]
  },
  {
   "cell_type": "markdown",
   "metadata": {},
   "source": [
    "One interesting proposition pattern to look at would be the vehicle type and if people are shipping certain vehicles longer or shorter distances. Let's take a look at the top 5 of those vehicle types as a shorthand for this analysis."
   ]
  },
  {
   "cell_type": "code",
   "execution_count": 116,
   "metadata": {},
   "outputs": [
    {
     "name": "stdout",
     "output_type": "stream",
     "text": [
      "The list of top 5 most shipped vehicle types is ['sedan', 'suv', '4_door_pickup', 'other', 'van']\n"
     ]
    }
   ],
   "source": [
    "print('The list of top 5 most shipped vehicle types is', df['vehicle_type'].value_counts()[0:5].index.tolist())"
   ]
  },
  {
   "cell_type": "code",
   "execution_count": 100,
   "metadata": {},
   "outputs": [
    {
     "data": {
      "text/plain": [
       "array(['suv', 'sedan', '4_door_pickup', 'other', 'van', 'pickup', 'rv',\n",
       "       'motorcycle', 'truck_daycab', 'boat', 'heavy_machinery', 'atv',\n",
       "       'freight', '2_door_coupe', 'trailer_bumper_pull', 'truck_sleeper',\n",
       "       'trailer_5th_wheel', 'trailer_gooseneck'], dtype=object)"
      ]
     },
     "execution_count": 100,
     "metadata": {},
     "output_type": "execute_result"
    }
   ],
   "source": [
    "df['vehicle_type'].unique()"
   ]
  },
  {
   "cell_type": "code",
   "execution_count": 103,
   "metadata": {},
   "outputs": [
    {
     "data": {
      "image/png": "[encoded data removed]",
      "text/plain": [
       "<Figure size 360x360 with 1 Axes>"
      ]
     },
     "metadata": {},
     "output_type": "display_data"
    }
   ],
   "source": [
    "df[\"top_ships\"] = df[\"vehicle_type\"].isin(['sedan', 'suv', '4_door_pickup', 'other', 'van'])\n",
    "cat_plot = sns.catplot(x=\"top_ships\", y=\"log distance\",\n",
    "            kind=\"boxen\", dodge=False, data=df);\n",
    "cat_plot.savefig('top_ships_dist.png')"
   ]
  },
  {
   "cell_type": "code",
   "execution_count": 126,
   "metadata": {},
   "outputs": [
    {
     "name": "stdout",
     "output_type": "stream",
     "text": [
      "The mean distance of vehicles not in the top five of shipped vehicle types is 281.31058244911173\n",
      "The mean distance of vehicles not in the top five of shipped vehicle types is 198.11402065754618\n"
     ]
    }
   ],
   "source": [
    "print('The mean distance of vehicles not in the top five of shipped vehicle types is', np.mean(df.groupby('top_ships')['distance'].mean()[0]))\n",
    "print('The mean distance of vehicles not in the top five of shipped vehicle types is', np.mean(df.groupby('top_ships')['distance'].mean()[1]))"
   ]
  },
  {
   "cell_type": "markdown",
   "metadata": {},
   "source": [
    "Interestingly, the mean distances of shipped vehicles is different between top shipped groups. Just for fun, is this statistically significant? "
   ]
  },
  {
   "cell_type": "code",
   "execution_count": 121,
   "metadata": {},
   "outputs": [],
   "source": [
    "# Separating dataframe between top_ship and non-top_ship distances:\n",
    "control = df[df['top_ships']== 0]['distance'] #non top_shipped vehicles \n",
    "experimental = df[df['top_ships'] != 0]['distance'] # top_shipped vehicles"
   ]
  },
  {
   "cell_type": "code",
   "execution_count": 123,
   "metadata": {},
   "outputs": [],
   "source": [
    "result = stats.ttest_ind(experimental, control)"
   ]
  },
  {
   "cell_type": "code",
   "execution_count": 124,
   "metadata": {},
   "outputs": [],
   "source": [
    "# Courtesy of callRoko's Northwind Project found here: https://github.com/callRoko/Northwind_Project/blob/master/.ipynb_checkpoints/index-checkpoint.ipynb\n",
    "\n",
    "def ttest_result(result, alpha):\n",
    "    \"\"\"after performing a t-test, use the p-value to tell us whether to reject or fail to reject the null hypothesis\"\"\"\n",
    "    if (result[1] > 0.05):\n",
    "               print(f\"Fail to reject null hypothesis.\\n Results are not statisitically significant with a p-value ={result[1]}\")\n",
    "    else:\n",
    "               print(f\"Reject the null hypothesis.\\n Results are statistically significant with a p-value ={result[1]}\")"
   ]
  },
  {
   "cell_type": "code",
   "execution_count": 125,
   "metadata": {},
   "outputs": [
    {
     "name": "stdout",
     "output_type": "stream",
     "text": [
      "Reject the null hypothesis.\n",
      " Results are statistically significant with a p-value =1.5843639482162108e-89\n"
     ]
    }
   ],
   "source": [
    "ttest_result(result, 0.05)"
   ]
  },
  {
   "cell_type": "markdown",
   "metadata": {},
   "source": [
    "Is it! That's a cool thing to tell SuperDispatch!"
   ]
  },
  {
   "cell_type": "code",
   "execution_count": 141,
   "metadata": {},
   "outputs": [
    {
     "data": {
      "text/plain": [
       "<matplotlib.legend.Legend at 0x7fb911df0160>"
      ]
     },
     "execution_count": 141,
     "metadata": {},
     "output_type": "execute_result"
    },
    {
     "data": {
      "image/png": "[encoded data removed]",
      "text/plain": [
       "<Figure size 576x396 with 1 Axes>"
      ]
     },
     "metadata": {},
     "output_type": "display_data"
    }
   ],
   "source": [
    "sns.set_style('whitegrid')\n",
    "control = df[df['top_ships']== 0]['pickup_latitude'] #non top_shipped vehicles \n",
    "experimental = df[df['top_ships'] != 0]['pickup_latitude'] # top_shipped vehicles\n",
    "ax = sns.distplot(experimental, bins = 75, label = 'Top Shipping Group')\n",
    "ax = sns.distplot(control, bins = 75, label = 'Not Top Shipped Group')\n",
    "ax.set_xlim(20,60)\n",
    "ax.set_title('Distribution of Distance', fontsize = 13)\n",
    "ax.legend()"
   ]
  },
  {
   "cell_type": "code",
   "execution_count": 144,
   "metadata": {},
   "outputs": [
    {
     "ename": "NameError",
     "evalue": "name 'distplot' is not defined",
     "output_type": "error",
     "traceback": [
      "\u001b[0;31m---------------------------------------------------------------------------\u001b[0m",
      "\u001b[0;31mNameError\u001b[0m                                 Traceback (most recent call last)",
      "\u001b[0;32m<ipython-input-144-8d920ca7b766>\u001b[0m in \u001b[0;36m<module>\u001b[0;34m\u001b[0m\n\u001b[0;32m----> 1\u001b[0;31m \u001b[0mdistplot\u001b[0m\u001b[0;34m.\u001b[0m\u001b[0msavefig\u001b[0m\u001b[0;34m(\u001b[0m\u001b[0;34m'pickup_lat_ship_groups.png'\u001b[0m\u001b[0;34m)\u001b[0m\u001b[0;34m\u001b[0m\u001b[0;34m\u001b[0m\u001b[0m\n\u001b[0m",
      "\u001b[0;31mNameError\u001b[0m: name 'distplot' is not defined"
     ]
    }
   ],
   "source": [
    "distplot.savefig('pickup_lat_ship_groups.png')"
   ]
  },
  {
   "cell_type": "code",
   "execution_count": 129,
   "metadata": {},
   "outputs": [
    {
     "data": {
      "text/html": [
       "<div>\n",
       "<style scoped>\n",
       "    .dataframe tbody tr th:only-of-type {\n",
       "        vertical-align: middle;\n",
       "    }\n",
       "\n",
       "    .dataframe tbody tr th {\n",
       "        vertical-align: top;\n",
       "    }\n",
       "\n",
       "    .dataframe thead th {\n",
       "        text-align: right;\n",
       "    }\n",
       "</style>\n",
       "<table border=\"1\" class=\"dataframe\">\n",
       "  <thead>\n",
       "    <tr style=\"text-align: right;\">\n",
       "      <th></th>\n",
       "      <th>pickup_latitude</th>\n",
       "      <th>pickup_longitude</th>\n",
       "      <th>delivery_latitude</th>\n",
       "      <th>delivery_longitude</th>\n",
       "      <th>vehicle_year</th>\n",
       "      <th>vehicle_type</th>\n",
       "      <th>is_inoperable</th>\n",
       "      <th>vehicle_price</th>\n",
       "      <th>pickup_coordinates</th>\n",
       "      <th>delivery_coordinates</th>\n",
       "      <th>distance</th>\n",
       "      <th>log distance</th>\n",
       "      <th>log price</th>\n",
       "      <th>top_ships</th>\n",
       "    </tr>\n",
       "  </thead>\n",
       "  <tbody>\n",
       "    <tr>\n",
       "      <th>35</th>\n",
       "      <td>26.233345</td>\n",
       "      <td>-80.205093</td>\n",
       "      <td>26.687171</td>\n",
       "      <td>-80.182647</td>\n",
       "      <td>2013</td>\n",
       "      <td>suv</td>\n",
       "      <td>0</td>\n",
       "      <td>70.0</td>\n",
       "      <td>(26.233344800000005, -80.2050934)</td>\n",
       "      <td>(26.6871706, -80.1826468)</td>\n",
       "      <td>31.387102</td>\n",
       "      <td>3.446397</td>\n",
       "      <td>4.248495</td>\n",
       "      <td>True</td>\n",
       "    </tr>\n",
       "    <tr>\n",
       "      <th>36</th>\n",
       "      <td>26.233345</td>\n",
       "      <td>-80.205093</td>\n",
       "      <td>26.687171</td>\n",
       "      <td>-80.182647</td>\n",
       "      <td>2018</td>\n",
       "      <td>suv</td>\n",
       "      <td>0</td>\n",
       "      <td>70.0</td>\n",
       "      <td>(26.233344800000005, -80.2050934)</td>\n",
       "      <td>(26.6871706, -80.1826468)</td>\n",
       "      <td>31.387102</td>\n",
       "      <td>3.446397</td>\n",
       "      <td>4.248495</td>\n",
       "      <td>True</td>\n",
       "    </tr>\n",
       "    <tr>\n",
       "      <th>37</th>\n",
       "      <td>26.233345</td>\n",
       "      <td>-80.205093</td>\n",
       "      <td>26.687171</td>\n",
       "      <td>-80.182647</td>\n",
       "      <td>2014</td>\n",
       "      <td>sedan</td>\n",
       "      <td>0</td>\n",
       "      <td>70.0</td>\n",
       "      <td>(26.233344800000005, -80.2050934)</td>\n",
       "      <td>(26.6871706, -80.1826468)</td>\n",
       "      <td>31.387102</td>\n",
       "      <td>3.446397</td>\n",
       "      <td>4.248495</td>\n",
       "      <td>True</td>\n",
       "    </tr>\n",
       "    <tr>\n",
       "      <th>38</th>\n",
       "      <td>26.233345</td>\n",
       "      <td>-80.205093</td>\n",
       "      <td>26.687171</td>\n",
       "      <td>-80.182647</td>\n",
       "      <td>2008</td>\n",
       "      <td>suv</td>\n",
       "      <td>0</td>\n",
       "      <td>70.0</td>\n",
       "      <td>(26.233344800000005, -80.2050934)</td>\n",
       "      <td>(26.6871706, -80.1826468)</td>\n",
       "      <td>31.387102</td>\n",
       "      <td>3.446397</td>\n",
       "      <td>4.248495</td>\n",
       "      <td>True</td>\n",
       "    </tr>\n",
       "    <tr>\n",
       "      <th>39</th>\n",
       "      <td>26.233345</td>\n",
       "      <td>-80.205093</td>\n",
       "      <td>26.687171</td>\n",
       "      <td>-80.182647</td>\n",
       "      <td>2016</td>\n",
       "      <td>suv</td>\n",
       "      <td>0</td>\n",
       "      <td>70.0</td>\n",
       "      <td>(26.233344800000005, -80.2050934)</td>\n",
       "      <td>(26.6871706, -80.1826468)</td>\n",
       "      <td>31.387102</td>\n",
       "      <td>3.446397</td>\n",
       "      <td>4.248495</td>\n",
       "      <td>True</td>\n",
       "    </tr>\n",
       "  </tbody>\n",
       "</table>\n",
       "</div>"
      ],
      "text/plain": [
       "    pickup_latitude  pickup_longitude  delivery_latitude  delivery_longitude  \\\n",
       "35        26.233345        -80.205093          26.687171          -80.182647   \n",
       "36        26.233345        -80.205093          26.687171          -80.182647   \n",
       "37        26.233345        -80.205093          26.687171          -80.182647   \n",
       "38        26.233345        -80.205093          26.687171          -80.182647   \n",
       "39        26.233345        -80.205093          26.687171          -80.182647   \n",
       "\n",
       "    vehicle_year vehicle_type  is_inoperable  vehicle_price  \\\n",
       "35          2013          suv              0           70.0   \n",
       "36          2018          suv              0           70.0   \n",
       "37          2014        sedan              0           70.0   \n",
       "38          2008          suv              0           70.0   \n",
       "39          2016          suv              0           70.0   \n",
       "\n",
       "                   pickup_coordinates       delivery_coordinates   distance  \\\n",
       "35  (26.233344800000005, -80.2050934)  (26.6871706, -80.1826468)  31.387102   \n",
       "36  (26.233344800000005, -80.2050934)  (26.6871706, -80.1826468)  31.387102   \n",
       "37  (26.233344800000005, -80.2050934)  (26.6871706, -80.1826468)  31.387102   \n",
       "38  (26.233344800000005, -80.2050934)  (26.6871706, -80.1826468)  31.387102   \n",
       "39  (26.233344800000005, -80.2050934)  (26.6871706, -80.1826468)  31.387102   \n",
       "\n",
       "    log distance  log price  top_ships  \n",
       "35      3.446397   4.248495       True  \n",
       "36      3.446397   4.248495       True  \n",
       "37      3.446397   4.248495       True  \n",
       "38      3.446397   4.248495       True  \n",
       "39      3.446397   4.248495       True  "
      ]
     },
     "execution_count": 129,
     "metadata": {},
     "output_type": "execute_result"
    }
   ],
   "source": [
    "df.head()"
   ]
  },
  {
   "cell_type": "markdown",
   "metadata": {},
   "source": [
    "# LabelEncode Vehicle Type"
   ]
  },
  {
   "cell_type": "code",
   "execution_count": 22,
   "metadata": {},
   "outputs": [],
   "source": [
    "from sklearn.preprocessing import LabelEncoder"
   ]
  },
  {
   "cell_type": "code",
   "execution_count": 23,
   "metadata": {},
   "outputs": [],
   "source": [
    "X = np.array(df[['vehicle_type']])"
   ]
  },
  {
   "cell_type": "code",
   "execution_count": 24,
   "metadata": {},
   "outputs": [],
   "source": [
    "X = X.reshape(-1,1)"
   ]
  },
  {
   "cell_type": "code",
   "execution_count": 27,
   "metadata": {},
   "outputs": [],
   "source": [
    "X = df['vehicle_type']"
   ]
  },
  {
   "cell_type": "code",
   "execution_count": 31,
   "metadata": {},
   "outputs": [
    {
     "data": {
      "text/html": [
       "<div>\n",
       "<style scoped>\n",
       "    .dataframe tbody tr th:only-of-type {\n",
       "        vertical-align: middle;\n",
       "    }\n",
       "\n",
       "    .dataframe tbody tr th {\n",
       "        vertical-align: top;\n",
       "    }\n",
       "\n",
       "    .dataframe thead th {\n",
       "        text-align: right;\n",
       "    }\n",
       "</style>\n",
       "<table border=\"1\" class=\"dataframe\">\n",
       "  <thead>\n",
       "    <tr style=\"text-align: right;\">\n",
       "      <th></th>\n",
       "      <th>pickup_latitude</th>\n",
       "      <th>pickup_longitude</th>\n",
       "      <th>delivery_latitude</th>\n",
       "      <th>delivery_longitude</th>\n",
       "      <th>vehicle_year</th>\n",
       "      <th>vehicle_type</th>\n",
       "      <th>is_inoperable</th>\n",
       "      <th>vehicle_price</th>\n",
       "      <th>pickup_coordinates</th>\n",
       "      <th>delivery_coordinates</th>\n",
       "      <th>distance</th>\n",
       "    </tr>\n",
       "  </thead>\n",
       "  <tbody>\n",
       "    <tr>\n",
       "      <th>57225</th>\n",
       "      <td>37.509842</td>\n",
       "      <td>-82.520017</td>\n",
       "      <td>39.542689</td>\n",
       "      <td>-84.286378</td>\n",
       "      <td>2017</td>\n",
       "      <td>atv</td>\n",
       "      <td>0</td>\n",
       "      <td>400.0</td>\n",
       "      <td>(37.5098415, -82.52001690000002)</td>\n",
       "      <td>(39.542689, -84.286378)</td>\n",
       "      <td>169.826</td>\n",
       "    </tr>\n",
       "    <tr>\n",
       "      <th>100553</th>\n",
       "      <td>36.863287</td>\n",
       "      <td>-84.224539</td>\n",
       "      <td>39.542689</td>\n",
       "      <td>-84.286378</td>\n",
       "      <td>2016</td>\n",
       "      <td>atv</td>\n",
       "      <td>0</td>\n",
       "      <td>300.0</td>\n",
       "      <td>(36.8632875, -84.22453859999999)</td>\n",
       "      <td>(39.542689, -84.286378)</td>\n",
       "      <td>185.159</td>\n",
       "    </tr>\n",
       "    <tr>\n",
       "      <th>108152</th>\n",
       "      <td>35.220014</td>\n",
       "      <td>-111.551970</td>\n",
       "      <td>36.225749</td>\n",
       "      <td>-115.126567</td>\n",
       "      <td>2015</td>\n",
       "      <td>atv</td>\n",
       "      <td>0</td>\n",
       "      <td>300.0</td>\n",
       "      <td>(35.2200144, -111.5519702)</td>\n",
       "      <td>(36.225748700000004, -115.12656740000001)</td>\n",
       "      <td>212.195</td>\n",
       "    </tr>\n",
       "    <tr>\n",
       "      <th>148922</th>\n",
       "      <td>46.942496</td>\n",
       "      <td>-96.817727</td>\n",
       "      <td>43.204822</td>\n",
       "      <td>-89.334156</td>\n",
       "      <td>2016</td>\n",
       "      <td>atv</td>\n",
       "      <td>0</td>\n",
       "      <td>375.0</td>\n",
       "      <td>(46.942496399999996, -96.81772690000001)</td>\n",
       "      <td>(43.204822, -89.3341559)</td>\n",
       "      <td>446.925</td>\n",
       "    </tr>\n",
       "    <tr>\n",
       "      <th>260619</th>\n",
       "      <td>36.732440</td>\n",
       "      <td>-76.238814</td>\n",
       "      <td>40.120595</td>\n",
       "      <td>-74.890602</td>\n",
       "      <td>2016</td>\n",
       "      <td>atv</td>\n",
       "      <td>0</td>\n",
       "      <td>425.0</td>\n",
       "      <td>(36.7324403, -76.23881429999999)</td>\n",
       "      <td>(40.120595, -74.8906017)</td>\n",
       "      <td>245.201</td>\n",
       "    </tr>\n",
       "    <tr>\n",
       "      <th>...</th>\n",
       "      <td>...</td>\n",
       "      <td>...</td>\n",
       "      <td>...</td>\n",
       "      <td>...</td>\n",
       "      <td>...</td>\n",
       "      <td>...</td>\n",
       "      <td>...</td>\n",
       "      <td>...</td>\n",
       "      <td>...</td>\n",
       "      <td>...</td>\n",
       "      <td>...</td>\n",
       "    </tr>\n",
       "    <tr>\n",
       "      <th>2732476</th>\n",
       "      <td>35.409400</td>\n",
       "      <td>-80.579700</td>\n",
       "      <td>29.651900</td>\n",
       "      <td>-82.324800</td>\n",
       "      <td>2020</td>\n",
       "      <td>atv</td>\n",
       "      <td>0</td>\n",
       "      <td>200.0</td>\n",
       "      <td>(35.4094, -80.5797)</td>\n",
       "      <td>(29.6519, -82.3248)</td>\n",
       "      <td>410.565</td>\n",
       "    </tr>\n",
       "    <tr>\n",
       "      <th>2732477</th>\n",
       "      <td>35.409400</td>\n",
       "      <td>-80.579700</td>\n",
       "      <td>29.651900</td>\n",
       "      <td>-82.324800</td>\n",
       "      <td>2020</td>\n",
       "      <td>atv</td>\n",
       "      <td>0</td>\n",
       "      <td>200.0</td>\n",
       "      <td>(35.4094, -80.5797)</td>\n",
       "      <td>(29.6519, -82.3248)</td>\n",
       "      <td>410.565</td>\n",
       "    </tr>\n",
       "    <tr>\n",
       "      <th>2763412</th>\n",
       "      <td>48.114547</td>\n",
       "      <td>-98.874861</td>\n",
       "      <td>43.204807</td>\n",
       "      <td>-89.334195</td>\n",
       "      <td>2017</td>\n",
       "      <td>atv</td>\n",
       "      <td>0</td>\n",
       "      <td>430.0</td>\n",
       "      <td>(48.114546999999995, -98.874861)</td>\n",
       "      <td>(43.204807, -89.334195)</td>\n",
       "      <td>571.451</td>\n",
       "    </tr>\n",
       "    <tr>\n",
       "      <th>2822394</th>\n",
       "      <td>32.816577</td>\n",
       "      <td>-97.106058</td>\n",
       "      <td>39.812717</td>\n",
       "      <td>-85.996611</td>\n",
       "      <td>2019</td>\n",
       "      <td>atv</td>\n",
       "      <td>0</td>\n",
       "      <td>475.0</td>\n",
       "      <td>(32.816577, -97.10605799999999)</td>\n",
       "      <td>(39.812717, -85.996611)</td>\n",
       "      <td>783.929</td>\n",
       "    </tr>\n",
       "    <tr>\n",
       "      <th>2898608</th>\n",
       "      <td>32.630930</td>\n",
       "      <td>-96.702610</td>\n",
       "      <td>33.674697</td>\n",
       "      <td>-95.526163</td>\n",
       "      <td>2020</td>\n",
       "      <td>atv</td>\n",
       "      <td>0</td>\n",
       "      <td>185.0</td>\n",
       "      <td>(32.63093, -96.70260999999999)</td>\n",
       "      <td>(33.674696999999995, -95.526163)</td>\n",
       "      <td>99.1553</td>\n",
       "    </tr>\n",
       "  </tbody>\n",
       "</table>\n",
       "<p>203 rows × 11 columns</p>\n",
       "</div>"
      ],
      "text/plain": [
       "         pickup_latitude  pickup_longitude  delivery_latitude  \\\n",
       "57225          37.509842        -82.520017          39.542689   \n",
       "100553         36.863287        -84.224539          39.542689   \n",
       "108152         35.220014       -111.551970          36.225749   \n",
       "148922         46.942496        -96.817727          43.204822   \n",
       "260619         36.732440        -76.238814          40.120595   \n",
       "...                  ...               ...                ...   \n",
       "2732476        35.409400        -80.579700          29.651900   \n",
       "2732477        35.409400        -80.579700          29.651900   \n",
       "2763412        48.114547        -98.874861          43.204807   \n",
       "2822394        32.816577        -97.106058          39.812717   \n",
       "2898608        32.630930        -96.702610          33.674697   \n",
       "\n",
       "         delivery_longitude  vehicle_year vehicle_type  is_inoperable  \\\n",
       "57225            -84.286378          2017          atv              0   \n",
       "100553           -84.286378          2016          atv              0   \n",
       "108152          -115.126567          2015          atv              0   \n",
       "148922           -89.334156          2016          atv              0   \n",
       "260619           -74.890602          2016          atv              0   \n",
       "...                     ...           ...          ...            ...   \n",
       "2732476          -82.324800          2020          atv              0   \n",
       "2732477          -82.324800          2020          atv              0   \n",
       "2763412          -89.334195          2017          atv              0   \n",
       "2822394          -85.996611          2019          atv              0   \n",
       "2898608          -95.526163          2020          atv              0   \n",
       "\n",
       "         vehicle_price                        pickup_coordinates  \\\n",
       "57225            400.0          (37.5098415, -82.52001690000002)   \n",
       "100553           300.0          (36.8632875, -84.22453859999999)   \n",
       "108152           300.0                (35.2200144, -111.5519702)   \n",
       "148922           375.0  (46.942496399999996, -96.81772690000001)   \n",
       "260619           425.0          (36.7324403, -76.23881429999999)   \n",
       "...                ...                                       ...   \n",
       "2732476          200.0                       (35.4094, -80.5797)   \n",
       "2732477          200.0                       (35.4094, -80.5797)   \n",
       "2763412          430.0          (48.114546999999995, -98.874861)   \n",
       "2822394          475.0           (32.816577, -97.10605799999999)   \n",
       "2898608          185.0            (32.63093, -96.70260999999999)   \n",
       "\n",
       "                              delivery_coordinates distance  \n",
       "57225                      (39.542689, -84.286378)  169.826  \n",
       "100553                     (39.542689, -84.286378)  185.159  \n",
       "108152   (36.225748700000004, -115.12656740000001)  212.195  \n",
       "148922                    (43.204822, -89.3341559)  446.925  \n",
       "260619                    (40.120595, -74.8906017)  245.201  \n",
       "...                                            ...      ...  \n",
       "2732476                        (29.6519, -82.3248)  410.565  \n",
       "2732477                        (29.6519, -82.3248)  410.565  \n",
       "2763412                    (43.204807, -89.334195)  571.451  \n",
       "2822394                    (39.812717, -85.996611)  783.929  \n",
       "2898608           (33.674696999999995, -95.526163)  99.1553  \n",
       "\n",
       "[203 rows x 11 columns]"
      ]
     },
     "execution_count": 31,
     "metadata": {},
     "output_type": "execute_result"
    }
   ],
   "source": [
    "df[df['vehicle_type'] == 'atv']"
   ]
  },
  {
   "cell_type": "code",
   "execution_count": 83,
   "metadata": {},
   "outputs": [
    {
     "name": "stderr",
     "output_type": "stream",
     "text": [
      "/Library/Frameworks/Python.framework/Versions/3.8/lib/python3.8/site-packages/sklearn/preprocessing/_label.py:235: DataConversionWarning: A column-vector y was passed when a 1d array was expected. Please change the shape of y to (n_samples, ), for example using ravel().\n",
      "  y = column_or_1d(y, warn=True)\n"
     ]
    }
   ],
   "source": [
    "encoder = LabelEncoder()\n",
    "encoder.fit(X)\n",
    "np.save('vehicle_classes.npy', encoder.classes_)"
   ]
  },
  {
   "cell_type": "code",
   "execution_count": 84,
   "metadata": {},
   "outputs": [
    {
     "name": "stderr",
     "output_type": "stream",
     "text": [
      "/Library/Frameworks/Python.framework/Versions/3.8/lib/python3.8/site-packages/sklearn/preprocessing/_label.py:268: DataConversionWarning: A column-vector y was passed when a 1d array was expected. Please change the shape of y to (n_samples, ), for example using ravel().\n",
      "  y = column_or_1d(y, warn=True)\n"
     ]
    },
    {
     "data": {
      "text/plain": [
       "array([11, 11, 10, ..., 11, 11, 10])"
      ]
     },
     "execution_count": 84,
     "metadata": {},
     "output_type": "execute_result"
    }
   ],
   "source": [
    "encoder.transform(X)"
   ]
  },
  {
   "cell_type": "code",
   "execution_count": 85,
   "metadata": {},
   "outputs": [],
   "source": [
    "vehicle_cats = df[['vehicle_type']].apply(encoder.fit_transform)"
   ]
  },
  {
   "cell_type": "code",
   "execution_count": 86,
   "metadata": {},
   "outputs": [],
   "source": [
    "df = vehicle_cats.join(df[['vehicle_year', 'is_inoperable', 'distance', 'vehicle_price']])"
   ]
  },
  {
   "cell_type": "code",
   "execution_count": 87,
   "metadata": {
    "scrolled": true
   },
   "outputs": [
    {
     "data": {
      "text/html": [
       "<div>\n",
       "<style scoped>\n",
       "    .dataframe tbody tr th:only-of-type {\n",
       "        vertical-align: middle;\n",
       "    }\n",
       "\n",
       "    .dataframe tbody tr th {\n",
       "        vertical-align: top;\n",
       "    }\n",
       "\n",
       "    .dataframe thead th {\n",
       "        text-align: right;\n",
       "    }\n",
       "</style>\n",
       "<table border=\"1\" class=\"dataframe\">\n",
       "  <thead>\n",
       "    <tr style=\"text-align: right;\">\n",
       "      <th></th>\n",
       "      <th>vehicle_type</th>\n",
       "      <th>vehicle_year</th>\n",
       "      <th>is_inoperable</th>\n",
       "      <th>distance</th>\n",
       "      <th>vehicle_price</th>\n",
       "    </tr>\n",
       "  </thead>\n",
       "  <tbody>\n",
       "    <tr>\n",
       "      <th>35</th>\n",
       "      <td>11</td>\n",
       "      <td>2013</td>\n",
       "      <td>0</td>\n",
       "      <td>31.3871</td>\n",
       "      <td>70.0</td>\n",
       "    </tr>\n",
       "    <tr>\n",
       "      <th>36</th>\n",
       "      <td>11</td>\n",
       "      <td>2018</td>\n",
       "      <td>0</td>\n",
       "      <td>31.3871</td>\n",
       "      <td>70.0</td>\n",
       "    </tr>\n",
       "    <tr>\n",
       "      <th>37</th>\n",
       "      <td>10</td>\n",
       "      <td>2014</td>\n",
       "      <td>0</td>\n",
       "      <td>31.3871</td>\n",
       "      <td>70.0</td>\n",
       "    </tr>\n",
       "    <tr>\n",
       "      <th>38</th>\n",
       "      <td>11</td>\n",
       "      <td>2008</td>\n",
       "      <td>0</td>\n",
       "      <td>31.3871</td>\n",
       "      <td>70.0</td>\n",
       "    </tr>\n",
       "    <tr>\n",
       "      <th>39</th>\n",
       "      <td>11</td>\n",
       "      <td>2016</td>\n",
       "      <td>0</td>\n",
       "      <td>31.3871</td>\n",
       "      <td>70.0</td>\n",
       "    </tr>\n",
       "  </tbody>\n",
       "</table>\n",
       "</div>"
      ],
      "text/plain": [
       "    vehicle_type  vehicle_year  is_inoperable distance  vehicle_price\n",
       "35            11          2013              0  31.3871           70.0\n",
       "36            11          2018              0  31.3871           70.0\n",
       "37            10          2014              0  31.3871           70.0\n",
       "38            11          2008              0  31.3871           70.0\n",
       "39            11          2016              0  31.3871           70.0"
      ]
     },
     "execution_count": 87,
     "metadata": {},
     "output_type": "execute_result"
    }
   ],
   "source": [
    "df.head()"
   ]
  },
  {
   "cell_type": "code",
   "execution_count": 88,
   "metadata": {},
   "outputs": [],
   "source": [
    "df['distance'] = df['distance'].astype('float')"
   ]
  },
  {
   "cell_type": "code",
   "execution_count": 89,
   "metadata": {
    "scrolled": true
   },
   "outputs": [
    {
     "name": "stderr",
     "output_type": "stream",
     "text": [
      "'c' argument looks like a single numeric RGB or RGBA sequence, which should be avoided as value-mapping will have precedence in case its length matches with 'x' & 'y'.  Please use a 2-D array with a single row if you really want to specify the same RGB or RGBA value for all points.\n"
     ]
    },
    {
     "data": {
      "image/png": "[encoded data removed]",
      "text/plain": [
       "<Figure size 576x396 with 1 Axes>"
      ]
     },
     "metadata": {},
     "output_type": "display_data"
    }
   ],
   "source": [
    "var = 'vehicle_price'\n",
    "data = pd.concat([df['distance'], df[var]], axis=1)\n",
    "data.plot.scatter(x=var, y='distance');"
   ]
  },
  {
   "cell_type": "code",
   "execution_count": 90,
   "metadata": {},
   "outputs": [],
   "source": [
    "df = df[(df['vehicle_price'] < 25000)]"
   ]
  },
  {
   "cell_type": "markdown",
   "metadata": {},
   "source": [
    "# Build the model"
   ]
  },
  {
   "cell_type": "code",
   "execution_count": 35,
   "metadata": {},
   "outputs": [
    {
     "name": "stderr",
     "output_type": "stream",
     "text": [
      "/Library/Frameworks/Python.framework/Versions/3.8/lib/python3.8/site-packages/sklearn/utils/deprecation.py:144: FutureWarning: The sklearn.metrics.classification module is  deprecated in version 0.22 and will be removed in version 0.24. The corresponding classes / functions should instead be imported from sklearn.metrics. Anything that cannot be imported from sklearn.metrics is now part of the private API.\n",
      "  warnings.warn(message, FutureWarning)\n"
     ]
    }
   ],
   "source": []
  },
  {
   "cell_type": "code",
   "execution_count": 36,
   "metadata": {},
   "outputs": [],
   "source": [
    "X = df[['vehicle_type', 'distance', 'vehicle_year', 'is_inoperable']] \n",
    "y = df['vehicle_price']"
   ]
  },
  {
   "cell_type": "code",
   "execution_count": 37,
   "metadata": {},
   "outputs": [],
   "source": [
    "X_train, X_test, y_train, y_test = train_test_split(X,y, test_size = 0.2,\n",
    "                                                   random_state = 0)"
   ]
  },
  {
   "cell_type": "code",
   "execution_count": 38,
   "metadata": {},
   "outputs": [],
   "source": [
    "regressor = RandomForestRegressor(n_estimators = 100, random_state = 0)"
   ]
  },
  {
   "cell_type": "code",
   "execution_count": 39,
   "metadata": {},
   "outputs": [
    {
     "data": {
      "text/plain": [
       "RandomForestRegressor(bootstrap=True, ccp_alpha=0.0, criterion='mse',\n",
       "                      max_depth=None, max_features='auto', max_leaf_nodes=None,\n",
       "                      max_samples=None, min_impurity_decrease=0.0,\n",
       "                      min_impurity_split=None, min_samples_leaf=1,\n",
       "                      min_samples_split=2, min_weight_fraction_leaf=0.0,\n",
       "                      n_estimators=100, n_jobs=None, oob_score=False,\n",
       "                      random_state=0, verbose=0, warm_start=False)"
      ]
     },
     "execution_count": 39,
     "metadata": {},
     "output_type": "execute_result"
    }
   ],
   "source": [
    "regressor.fit(X_train,y_train)"
   ]
  },
  {
   "cell_type": "markdown",
   "metadata": {},
   "source": [
    "# Test and validate the model"
   ]
  },
  {
   "cell_type": "code",
   "execution_count": 40,
   "metadata": {},
   "outputs": [],
   "source": [
    "predictions = regressor.predict(X_test)"
   ]
  },
  {
   "cell_type": "code",
   "execution_count": 41,
   "metadata": {},
   "outputs": [],
   "source": [
    "def mean_absolute_percentage_error(y_true, y_pred): \n",
    "    y_true, y_pred = np.array(y_true), np.array(y_pred)\n",
    "    return np.mean((y_true - y_pred) / y_true) * 100"
   ]
  },
  {
   "cell_type": "code",
   "execution_count": 42,
   "metadata": {},
   "outputs": [],
   "source": [
    "y_test = np.array(y_test).reshape(-1,1)"
   ]
  },
  {
   "cell_type": "code",
   "execution_count": 43,
   "metadata": {},
   "outputs": [
    {
     "data": {
      "text/plain": [
       "array([[ 65.],\n",
       "       [ 90.],\n",
       "       [ 65.],\n",
       "       ...,\n",
       "       [250.],\n",
       "       [200.],\n",
       "       [187.]])"
      ]
     },
     "execution_count": 43,
     "metadata": {},
     "output_type": "execute_result"
    }
   ],
   "source": [
    "y_test"
   ]
  },
  {
   "cell_type": "code",
   "execution_count": 44,
   "metadata": {},
   "outputs": [],
   "source": [
    "predictions = np.array(predictions).reshape(-1,1)"
   ]
  },
  {
   "cell_type": "code",
   "execution_count": 45,
   "metadata": {},
   "outputs": [
    {
     "data": {
      "text/plain": [
       "array([[ 65.        ],\n",
       "       [ 89.83612861],\n",
       "       [ 65.        ],\n",
       "       ...,\n",
       "       [236.3       ],\n",
       "       [186.11964711],\n",
       "       [187.        ]])"
      ]
     },
     "execution_count": 45,
     "metadata": {},
     "output_type": "execute_result"
    }
   ],
   "source": [
    "predictions"
   ]
  },
  {
   "cell_type": "code",
   "execution_count": 46,
   "metadata": {},
   "outputs": [
    {
     "name": "stderr",
     "output_type": "stream",
     "text": [
      "<ipython-input-41-de57bfb3883b>:3: RuntimeWarning: divide by zero encountered in true_divide\n",
      "  return np.mean((y_true - y_pred) / y_true) * 100\n"
     ]
    },
    {
     "data": {
      "text/plain": [
       "-inf"
      ]
     },
     "execution_count": 46,
     "metadata": {},
     "output_type": "execute_result"
    }
   ],
   "source": [
    "mean_absolute_percentage_error(y_test,predictions)"
   ]
  },
  {
   "cell_type": "code",
   "execution_count": 47,
   "metadata": {},
   "outputs": [
    {
     "data": {
      "text/plain": [
       "31.09320423189839"
      ]
     },
     "execution_count": 47,
     "metadata": {},
     "output_type": "execute_result"
    }
   ],
   "source": [
    "mean_absolute_error(y_test, predictions)"
   ]
  },
  {
   "cell_type": "code",
   "execution_count": 48,
   "metadata": {},
   "outputs": [],
   "source": [
    "error_matrix = y_test - predictions\n",
    "error_list = error_matrix.tolist()"
   ]
  },
  {
   "cell_type": "code",
   "execution_count": 49,
   "metadata": {},
   "outputs": [
    {
     "data": {
      "text/plain": [
       "Text(0, 0.5, 'Frequency')"
      ]
     },
     "execution_count": 49,
     "metadata": {},
     "output_type": "execute_result"
    },
    {
     "data": {
      "image/png": "[encoded data removed]",
      "text/plain": [
       "<Figure size 576x396 with 1 Axes>"
      ]
     },
     "metadata": {},
     "output_type": "display_data"
    }
   ],
   "source": [
    "plt.hist(error_matrix, bins = np.linspace(-100,100))\n",
    "plt.title('Histogram of prediction errors')\n",
    "plt.xlabel('Price prediction error')\n",
    "plt.ylabel('Frequency')"
   ]
  },
  {
   "cell_type": "code",
   "execution_count": 50,
   "metadata": {},
   "outputs": [
    {
     "data": {
      "image/png": "[encoded data removed]",
      "text/plain": [
       "<Figure size 576x396 with 1 Axes>"
      ]
     },
     "metadata": {},
     "output_type": "display_data"
    }
   ],
   "source": [
    "_, ax = plt.subplots()\n",
    "\n",
    "ax.scatter(x = range(0, y_test.size), y=y_test, c = 'blue', label = 'Actual', alpha = 0.3)\n",
    "ax.scatter(x = range(0, predictions.size), y=predictions, c = 'red', label = 'Predicted', alpha = 0.3)\n",
    "\n",
    "plt.title('Actual and predicted values')\n",
    "plt.xlabel('Observations')\n",
    "plt.ylabel('price (dollar amount)')\n",
    "plt.legend()\n",
    "plt.show()"
   ]
  },
  {
   "cell_type": "markdown",
   "metadata": {},
   "source": [
    "# Pickle, Package, and (Re)-Test the Model"
   ]
  },
  {
   "cell_type": "code",
   "execution_count": 51,
   "metadata": {},
   "outputs": [],
   "source": [
    "import pickle"
   ]
  },
  {
   "cell_type": "code",
   "execution_count": 52,
   "metadata": {},
   "outputs": [],
   "source": [
    "filename = 'sd_rfreg_file.pkl'\n",
    "outfile = open(filename,'wb')\n",
    "\n",
    "pickle.dump(regressor,outfile)\n",
    "outfile.close()"
   ]
  },
  {
   "cell_type": "code",
   "execution_count": 53,
   "metadata": {},
   "outputs": [],
   "source": [
    "infile = open(filename,'rb')\n",
    "regressor = pickle.load(infile)"
   ]
  },
  {
   "cell_type": "code",
   "execution_count": 54,
   "metadata": {},
   "outputs": [],
   "source": [
    "row = X_test[0:1]"
   ]
  },
  {
   "cell_type": "code",
   "execution_count": 55,
   "metadata": {},
   "outputs": [
    {
     "data": {
      "text/html": [
       "<div>\n",
       "<style scoped>\n",
       "    .dataframe tbody tr th:only-of-type {\n",
       "        vertical-align: middle;\n",
       "    }\n",
       "\n",
       "    .dataframe tbody tr th {\n",
       "        vertical-align: top;\n",
       "    }\n",
       "\n",
       "    .dataframe thead th {\n",
       "        text-align: right;\n",
       "    }\n",
       "</style>\n",
       "<table border=\"1\" class=\"dataframe\">\n",
       "  <thead>\n",
       "    <tr style=\"text-align: right;\">\n",
       "      <th></th>\n",
       "      <th>vehicle_type</th>\n",
       "      <th>distance</th>\n",
       "      <th>vehicle_year</th>\n",
       "      <th>is_inoperable</th>\n",
       "    </tr>\n",
       "  </thead>\n",
       "  <tbody>\n",
       "    <tr>\n",
       "      <th>1217745</th>\n",
       "      <td>10</td>\n",
       "      <td>32.25197</td>\n",
       "      <td>2002</td>\n",
       "      <td>0</td>\n",
       "    </tr>\n",
       "  </tbody>\n",
       "</table>\n",
       "</div>"
      ],
      "text/plain": [
       "         vehicle_type  distance  vehicle_year  is_inoperable\n",
       "1217745            10  32.25197          2002              0"
      ]
     },
     "execution_count": 55,
     "metadata": {},
     "output_type": "execute_result"
    }
   ],
   "source": [
    "row"
   ]
  },
  {
   "cell_type": "code",
   "execution_count": 56,
   "metadata": {
    "scrolled": true
   },
   "outputs": [
    {
     "data": {
      "text/plain": [
       "array([65.])"
      ]
     },
     "execution_count": 56,
     "metadata": {},
     "output_type": "execute_result"
    }
   ],
   "source": [
    "regressor.predict(row)"
   ]
  },
  {
   "cell_type": "markdown",
   "metadata": {},
   "source": [
    "# Test out some API features : preprocessing JSON data"
   ]
  },
  {
   "cell_type": "code",
   "execution_count": 124,
   "metadata": {},
   "outputs": [],
   "source": [
    "row = df[0:1].drop(columns = ['pickup_coordinates', 'delivery_coordinates', 'distance', 'vehicle_price'])"
   ]
  },
  {
   "cell_type": "code",
   "execution_count": 125,
   "metadata": {},
   "outputs": [],
   "source": [
    "row['is_inoperable'] = 'f'"
   ]
  },
  {
   "cell_type": "code",
   "execution_count": 126,
   "metadata": {},
   "outputs": [
    {
     "data": {
      "text/html": [
       "<div>\n",
       "<style scoped>\n",
       "    .dataframe tbody tr th:only-of-type {\n",
       "        vertical-align: middle;\n",
       "    }\n",
       "\n",
       "    .dataframe tbody tr th {\n",
       "        vertical-align: top;\n",
       "    }\n",
       "\n",
       "    .dataframe thead th {\n",
       "        text-align: right;\n",
       "    }\n",
       "</style>\n",
       "<table border=\"1\" class=\"dataframe\">\n",
       "  <thead>\n",
       "    <tr style=\"text-align: right;\">\n",
       "      <th></th>\n",
       "      <th>pickup_latitude</th>\n",
       "      <th>pickup_longitude</th>\n",
       "      <th>delivery_latitude</th>\n",
       "      <th>delivery_longitude</th>\n",
       "      <th>vehicle_year</th>\n",
       "      <th>vehicle_type</th>\n",
       "      <th>is_inoperable</th>\n",
       "    </tr>\n",
       "  </thead>\n",
       "  <tbody>\n",
       "    <tr>\n",
       "      <th>35</th>\n",
       "      <td>26.233345</td>\n",
       "      <td>-80.205093</td>\n",
       "      <td>26.687171</td>\n",
       "      <td>-80.182647</td>\n",
       "      <td>2013</td>\n",
       "      <td>suv</td>\n",
       "      <td>f</td>\n",
       "    </tr>\n",
       "  </tbody>\n",
       "</table>\n",
       "</div>"
      ],
      "text/plain": [
       "    pickup_latitude  pickup_longitude  delivery_latitude  delivery_longitude  \\\n",
       "35        26.233345        -80.205093          26.687171          -80.182647   \n",
       "\n",
       "    vehicle_year vehicle_type is_inoperable  \n",
       "35          2013          suv             f  "
      ]
     },
     "execution_count": 126,
     "metadata": {},
     "output_type": "execute_result"
    }
   ],
   "source": [
    "row"
   ]
  },
  {
   "cell_type": "code",
   "execution_count": 127,
   "metadata": {},
   "outputs": [],
   "source": [
    "row.to_json('sample_row.json')"
   ]
  },
  {
   "cell_type": "code",
   "execution_count": 1,
   "metadata": {},
   "outputs": [],
   "source": [
    "import json"
   ]
  },
  {
   "cell_type": "code",
   "execution_count": 6,
   "metadata": {
    "scrolled": true
   },
   "outputs": [],
   "source": [
    "row = pd.read_json('sample_row.json')"
   ]
  },
  {
   "cell_type": "code",
   "execution_count": 9,
   "metadata": {},
   "outputs": [
    {
     "data": {
      "text/html": [
       "<div>\n",
       "<style scoped>\n",
       "    .dataframe tbody tr th:only-of-type {\n",
       "        vertical-align: middle;\n",
       "    }\n",
       "\n",
       "    .dataframe tbody tr th {\n",
       "        vertical-align: top;\n",
       "    }\n",
       "\n",
       "    .dataframe thead th {\n",
       "        text-align: right;\n",
       "    }\n",
       "</style>\n",
       "<table border=\"1\" class=\"dataframe\">\n",
       "  <thead>\n",
       "    <tr style=\"text-align: right;\">\n",
       "      <th></th>\n",
       "      <th>pickup_latitude</th>\n",
       "      <th>pickup_longitude</th>\n",
       "      <th>delivery_latitude</th>\n",
       "      <th>delivery_longitude</th>\n",
       "      <th>vehicle_year</th>\n",
       "      <th>vehicle_type</th>\n",
       "      <th>is_inoperable</th>\n",
       "    </tr>\n",
       "  </thead>\n",
       "  <tbody>\n",
       "    <tr>\n",
       "      <th>35</th>\n",
       "      <td>26.233345</td>\n",
       "      <td>-80.205093</td>\n",
       "      <td>26.687171</td>\n",
       "      <td>-80.182647</td>\n",
       "      <td>2013</td>\n",
       "      <td>suv</td>\n",
       "      <td>f</td>\n",
       "    </tr>\n",
       "  </tbody>\n",
       "</table>\n",
       "</div>"
      ],
      "text/plain": [
       "    pickup_latitude  pickup_longitude  delivery_latitude  delivery_longitude  \\\n",
       "35        26.233345        -80.205093          26.687171          -80.182647   \n",
       "\n",
       "    vehicle_year vehicle_type is_inoperable  \n",
       "35          2013          suv             f  "
      ]
     },
     "execution_count": 9,
     "metadata": {},
     "output_type": "execute_result"
    }
   ],
   "source": [
    "pd.DataFrame(row)"
   ]
  },
  {
   "cell_type": "code",
   "execution_count": 173,
   "metadata": {},
   "outputs": [],
   "source": [
    "def pairs_coordinates(latitude, longitude):\n",
    "        return (latitude.iloc[0], longitude.iloc[0]) "
   ]
  },
  {
   "cell_type": "code",
   "execution_count": 174,
   "metadata": {},
   "outputs": [
    {
     "data": {
      "text/plain": [
       "(26.233344800000005, -80.2050934)"
      ]
     },
     "execution_count": 174,
     "metadata": {},
     "output_type": "execute_result"
    }
   ],
   "source": [
    "pairs_coordinates(row['pickup_latitude'], row['pickup_longitude'])"
   ]
  },
  {
   "cell_type": "code",
   "execution_count": 172,
   "metadata": {},
   "outputs": [
    {
     "data": {
      "text/plain": [
       "26.233344800000005"
      ]
     },
     "execution_count": 172,
     "metadata": {},
     "output_type": "execute_result"
    }
   ],
   "source": [
    "row['pickup_latitude'].iloc[0]"
   ]
  },
  {
   "cell_type": "code",
   "execution_count": 179,
   "metadata": {
    "scrolled": true
   },
   "outputs": [],
   "source": [
    "features = df.drop(columns = ['vehicle_price', 'pickup_coordinates', 'delivery_coordinates','distance'], axis = 1).columns\n",
    "pickle.dump(features, open('features.pkl', 'wb'))"
   ]
  },
  {
   "cell_type": "code",
   "execution_count": 180,
   "metadata": {},
   "outputs": [
    {
     "data": {
      "text/plain": [
       "Index(['pickup_latitude', 'pickup_longitude', 'delivery_latitude',\n",
       "       'delivery_longitude', 'vehicle_year', 'vehicle_type', 'is_inoperable'],\n",
       "      dtype='object')"
      ]
     },
     "execution_count": 180,
     "metadata": {},
     "output_type": "execute_result"
    }
   ],
   "source": [
    "features"
   ]
  },
  {
   "cell_type": "code",
   "execution_count": null,
   "metadata": {},
   "outputs": [],
   "source": []
  }
 ],
 "metadata": {
  "kernelspec": {
   "display_name": "Python 3",
   "language": "python",
   "name": "python3"
  },
  "language_info": {
   "codemirror_mode": {
    "name": "ipython",
    "version": 3
   },
   "file_extension": ".py",
   "mimetype": "text/x-python",
   "name": "python",
   "nbconvert_exporter": "python",
   "pygments_lexer": "ipython3",
   "version": "3.8.1"
  }
 },
 "nbformat": 4,
 "nbformat_minor": 4
}
